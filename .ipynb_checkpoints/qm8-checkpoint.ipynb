{
 "cells": [
  {
   "cell_type": "markdown",
   "id": "38eb7c73",
   "metadata": {},
   "source": [
    "# qm8"
   ]
  },
  {
   "cell_type": "code",
   "execution_count": 2,
   "id": "a403ef82",
   "metadata": {},
   "outputs": [],
   "source": [
    "from deepchem.molnet.load_function.qm8_datasets import load_qm8, _QM8Loader\n",
    "import deepchem as dc"
   ]
  },
  {
   "cell_type": "code",
   "execution_count": 3,
   "id": "c0cffb34",
   "metadata": {},
   "outputs": [],
   "source": [
    "tasks, datasets, transformers= dc.molnet.load_qm8(featurizer=dc.feat.CoulombMatrix(26), data_dir='./', save_dir='./')"
   ]
  },
  {
   "cell_type": "code",
   "execution_count": 4,
   "id": "a23fe7b2",
   "metadata": {},
   "outputs": [],
   "source": [
    "train_dataset, valid_dataset, test_dataset = datasets"
   ]
  },
  {
   "cell_type": "code",
   "execution_count": 5,
   "id": "95b82712",
   "metadata": {},
   "outputs": [
    {
     "data": {
      "text/plain": [
       "<DiskDataset X.shape: (2175, 26, 26), y.shape: (2175, 16), w.shape: (2175, 16), task_names: ['E1-CC2' 'E2-CC2' 'f1-CC2' ... 'E2-CAM' 'f1-CAM' 'f2-CAM']>"
      ]
     },
     "execution_count": 5,
     "metadata": {},
     "output_type": "execute_result"
    }
   ],
   "source": [
    "test_dataset"
   ]
  },
  {
   "cell_type": "code",
   "execution_count": 6,
   "id": "5362a442",
   "metadata": {},
   "outputs": [
    {
     "data": {
      "text/plain": [
       "<DiskDataset X.shape: (17397, 26, 26), y.shape: (17397, 16), w.shape: (17397, 16), task_names: ['E1-CC2' 'E2-CC2' 'f1-CC2' ... 'E2-CAM' 'f1-CAM' 'f2-CAM']>"
      ]
     },
     "execution_count": 6,
     "metadata": {},
     "output_type": "execute_result"
    }
   ],
   "source": [
    "train_dataset"
   ]
  },
  {
   "cell_type": "markdown",
   "id": "614e8629",
   "metadata": {},
   "source": [
    "CNN"
   ]
  },
  {
   "cell_type": "code",
   "execution_count": 7,
   "id": "c3176ff3",
   "metadata": {},
   "outputs": [],
   "source": [
    "model = dc.models.CNN(n_tasks=16, n_features=26, dims=1, kernel_size=3, mode='regression')"
   ]
  },
  {
   "cell_type": "code",
   "execution_count": 8,
   "id": "6118be40",
   "metadata": {},
   "outputs": [
    {
     "name": "stdout",
     "output_type": "stream",
     "text": [
      "train set roc score: 0.9277137756347656\n",
      "test set roc score: 0.9414937973022461\n"
     ]
    }
   ],
   "source": [
    "print('train set roc score:', model.fit(train_dataset, nb_epoch=10))\n",
    "print('test set roc score:', model.fit(test_dataset, nb_epoch=10))"
   ]
  },
  {
   "cell_type": "markdown",
   "id": "fbbe6021",
   "metadata": {},
   "source": [
    "DTNNModel"
   ]
  },
  {
   "cell_type": "code",
   "execution_count": 9,
   "id": "239e14b3",
   "metadata": {},
   "outputs": [],
   "source": [
    "model = dc.models.DTNNModel(n_tasks=16, n_features=26, dims=1, kernel_size=3, mode='regression')"
   ]
  },
  {
   "cell_type": "code",
   "execution_count": 10,
   "id": "baf1447d",
   "metadata": {},
   "outputs": [
    {
     "name": "stderr",
     "output_type": "stream",
     "text": [
      "C:\\Users\\ASUS\\anaconda3\\lib\\site-packages\\tensorflow\\python\\framework\\indexed_slices.py:444: UserWarning: Converting sparse IndexedSlices(IndexedSlices(indices=Tensor(\"gradient_tape/model_1/dtnn_step_1/Reshape_5:0\", shape=(None,), dtype=int32), values=Tensor(\"gradient_tape/model_1/dtnn_step_1/Reshape_4:0\", shape=(None, 60), dtype=float32), dense_shape=Tensor(\"gradient_tape/model_1/dtnn_step_1/Cast:0\", shape=(2,), dtype=int32))) to a dense Tensor of unknown shape. This may consume a large amount of memory.\n",
      "  warnings.warn(\n",
      "C:\\Users\\ASUS\\anaconda3\\lib\\site-packages\\tensorflow\\python\\framework\\indexed_slices.py:444: UserWarning: Converting sparse IndexedSlices(IndexedSlices(indices=Tensor(\"gradient_tape/model_1/dtnn_step/Reshape_5:0\", shape=(None,), dtype=int32), values=Tensor(\"gradient_tape/model_1/dtnn_step/Reshape_4:0\", shape=(None, 60), dtype=float32), dense_shape=Tensor(\"gradient_tape/model_1/dtnn_step/Cast:0\", shape=(2,), dtype=int32))) to a dense Tensor of unknown shape. This may consume a large amount of memory.\n",
      "  warnings.warn(\n"
     ]
    },
    {
     "name": "stdout",
     "output_type": "stream",
     "text": [
      "train set roc score: 0.880213451385498\n",
      "test set roc score: 0.8258939743041992\n"
     ]
    }
   ],
   "source": [
    "print('train set roc score:', model.fit(train_dataset, nb_epoch=10))\n",
    "print('test set roc score:', model.fit(test_dataset, nb_epoch=10))"
   ]
  },
  {
   "cell_type": "markdown",
   "id": "1d662785",
   "metadata": {},
   "source": [
    "Molecular visualization(references:github)"
   ]
  },
  {
   "cell_type": "code",
   "execution_count": 11,
   "id": "e355b31c",
   "metadata": {},
   "outputs": [],
   "source": [
    "import numpy as np\n",
    "import matplotlib.pyplot as plt\n",
    "import seaborn as sns\n",
    "import pandas as pd\n",
    "import os\n",
    "\n",
    "import deepchem as dc\n",
    "from deepchem.models.normalizing_flows import NormalizingFlow, NormalizingFlowModel\n",
    "from deepchem.models.optimizers import Adam\n",
    "from deepchem.data import NumpyDataset\n",
    "from deepchem.splits import RandomSplitter\n",
    "from deepchem.molnet import load_tox21\n",
    "\n",
    "import rdkit\n",
    "from rdkit import Chem\n",
    "from rdkit.Chem.Draw import IPythonConsole\n",
    "from rdkit.Chem import Draw\n",
    "\n",
    "from IPython.display import Image, display\n",
    "\n",
    "import selfies as sf\n",
    "\n",
    "import tensorflow as tf\n",
    "import tensorflow_probability as tfp\n",
    "\n",
    "tfd = tfp.distributions\n",
    "tfb = tfp.bijectors\n",
    "tfk = tf.keras\n",
    "\n",
    "tfk.backend.set_floatx('float64')"
   ]
  },
  {
   "cell_type": "code",
   "execution_count": 12,
   "id": "49c540ce",
   "metadata": {
    "scrolled": true
   },
   "outputs": [
    {
     "name": "stderr",
     "output_type": "stream",
     "text": [
      "[15:33:03] Warning: molecule is tagged as 3D, but all Z coords are zero\n",
      "[15:33:03] Explicit valence for atom # 0 N, 4, is greater than permitted\n",
      "[15:33:03] ERROR: Could not sanitize molecule ending on line 7254\n",
      "[15:33:03] ERROR: Explicit valence for atom # 0 N, 4, is greater than permitted\n",
      "[15:33:03] Explicit valence for atom # 2 N, 4, is greater than permitted\n",
      "[15:33:03] ERROR: Could not sanitize molecule ending on line 7619\n",
      "[15:33:03] ERROR: Explicit valence for atom # 2 N, 4, is greater than permitted\n",
      "[15:33:03] Warning: molecule is tagged as 3D, but all Z coords are zero\n",
      "[15:33:03] Explicit valence for atom # 4 N, 4, is greater than permitted\n",
      "[15:33:03] ERROR: Could not sanitize molecule ending on line 51897\n",
      "[15:33:03] ERROR: Explicit valence for atom # 4 N, 4, is greater than permitted\n",
      "[15:33:03] Explicit valence for atom # 3 N, 4, is greater than permitted\n",
      "[15:33:03] ERROR: Could not sanitize molecule ending on line 52063\n",
      "[15:33:03] ERROR: Explicit valence for atom # 3 N, 4, is greater than permitted\n",
      "[15:33:03] Explicit valence for atom # 3 N, 4, is greater than permitted\n",
      "[15:33:03] ERROR: Could not sanitize molecule ending on line 52788\n",
      "[15:33:03] ERROR: Explicit valence for atom # 3 N, 4, is greater than permitted\n",
      "[15:33:03] Explicit valence for atom # 1 N, 4, is greater than permitted\n",
      "[15:33:03] ERROR: Could not sanitize molecule ending on line 135724\n",
      "[15:33:03] ERROR: Explicit valence for atom # 1 N, 4, is greater than permitted\n",
      "[15:33:03] Explicit valence for atom # 0 N, 4, is greater than permitted\n",
      "[15:33:03] ERROR: Could not sanitize molecule ending on line 135793\n",
      "[15:33:03] ERROR: Explicit valence for atom # 0 N, 4, is greater than permitted\n",
      "[15:33:03] Explicit valence for atom # 0 N, 4, is greater than permitted\n",
      "[15:33:03] ERROR: Could not sanitize molecule ending on line 135825\n",
      "[15:33:03] ERROR: Explicit valence for atom # 0 N, 4, is greater than permitted\n",
      "[15:33:03] Explicit valence for atom # 0 N, 4, is greater than permitted\n",
      "[15:33:03] ERROR: Could not sanitize molecule ending on line 136124\n",
      "[15:33:03] ERROR: Explicit valence for atom # 0 N, 4, is greater than permitted\n",
      "[15:33:03] Explicit valence for atom # 3 N, 4, is greater than permitted\n",
      "[15:33:03] ERROR: Could not sanitize molecule ending on line 195261\n",
      "[15:33:03] ERROR: Explicit valence for atom # 3 N, 4, is greater than permitted\n",
      "[15:33:03] Explicit valence for atom # 4 N, 4, is greater than permitted\n",
      "[15:33:03] ERROR: Could not sanitize molecule ending on line 205254\n",
      "[15:33:03] ERROR: Explicit valence for atom # 4 N, 4, is greater than permitted\n",
      "[15:33:03] Explicit valence for atom # 0 N, 4, is greater than permitted\n",
      "[15:33:03] ERROR: Could not sanitize molecule ending on line 206212\n",
      "[15:33:03] ERROR: Explicit valence for atom # 0 N, 4, is greater than permitted\n",
      "[15:33:03] Explicit valence for atom # 2 N, 4, is greater than permitted\n",
      "[15:33:03] ERROR: Could not sanitize molecule ending on line 206615\n",
      "[15:33:03] ERROR: Explicit valence for atom # 2 N, 4, is greater than permitted\n",
      "[15:33:03] Explicit valence for atom # 2 N, 4, is greater than permitted\n",
      "[15:33:03] ERROR: Could not sanitize molecule ending on line 210620\n",
      "[15:33:03] ERROR: Explicit valence for atom # 2 N, 4, is greater than permitted\n",
      "[15:33:04] Explicit valence for atom # 7 N, 4, is greater than permitted\n",
      "[15:33:04] ERROR: Could not sanitize molecule ending on line 231397\n",
      "[15:33:04] ERROR: Explicit valence for atom # 7 N, 4, is greater than permitted\n",
      "[15:33:04] Explicit valence for atom # 4 N, 4, is greater than permitted\n",
      "[15:33:04] ERROR: Could not sanitize molecule ending on line 256913\n",
      "[15:33:04] ERROR: Explicit valence for atom # 4 N, 4, is greater than permitted\n",
      "[15:33:04] Explicit valence for atom # 1 N, 4, is greater than permitted\n",
      "[15:33:04] ERROR: Could not sanitize molecule ending on line 257175\n",
      "[15:33:04] ERROR: Explicit valence for atom # 1 N, 4, is greater than permitted\n",
      "[15:33:04] Explicit valence for atom # 1 N, 4, is greater than permitted\n",
      "[15:33:04] ERROR: Could not sanitize molecule ending on line 258701\n",
      "[15:33:04] ERROR: Explicit valence for atom # 1 N, 4, is greater than permitted\n",
      "[15:33:04] Explicit valence for atom # 4 N, 4, is greater than permitted\n",
      "[15:33:04] ERROR: Could not sanitize molecule ending on line 260386\n",
      "[15:33:04] ERROR: Explicit valence for atom # 4 N, 4, is greater than permitted\n",
      "[15:33:04] Explicit valence for atom # 4 N, 4, is greater than permitted\n",
      "[15:33:04] ERROR: Could not sanitize molecule ending on line 267509\n",
      "[15:33:04] ERROR: Explicit valence for atom # 4 N, 4, is greater than permitted\n",
      "[15:33:04] Explicit valence for atom # 1 N, 4, is greater than permitted\n",
      "[15:33:04] ERROR: Could not sanitize molecule ending on line 269422\n",
      "[15:33:04] ERROR: Explicit valence for atom # 1 N, 4, is greater than permitted\n",
      "[15:33:04] Explicit valence for atom # 0 N, 4, is greater than permitted\n",
      "[15:33:04] ERROR: Could not sanitize molecule ending on line 269541\n",
      "[15:33:04] ERROR: Explicit valence for atom # 0 N, 4, is greater than permitted\n",
      "[15:33:04] Explicit valence for atom # 7 N, 4, is greater than permitted\n",
      "[15:33:04] ERROR: Could not sanitize molecule ending on line 300058\n",
      "[15:33:04] ERROR: Explicit valence for atom # 7 N, 4, is greater than permitted\n",
      "[15:33:07] Explicit valence for atom # 0 N, 4, is greater than permitted\n",
      "[15:33:07] ERROR: Could not sanitize molecule ending on line 362368\n",
      "[15:33:07] ERROR: Explicit valence for atom # 0 N, 4, is greater than permitted\n",
      "[15:33:07] Explicit valence for atom # 0 N, 4, is greater than permitted\n",
      "[15:33:07] ERROR: Could not sanitize molecule ending on line 363306\n",
      "[15:33:07] ERROR: Explicit valence for atom # 0 N, 4, is greater than permitted\n",
      "[15:33:07] Explicit valence for atom # 2 N, 4, is greater than permitted\n",
      "[15:33:07] ERROR: Could not sanitize molecule ending on line 372202\n",
      "[15:33:07] ERROR: Explicit valence for atom # 2 N, 4, is greater than permitted\n",
      "[15:33:07] Explicit valence for atom # 0 N, 4, is greater than permitted\n",
      "[15:33:07] ERROR: Could not sanitize molecule ending on line 372232\n",
      "[15:33:07] ERROR: Explicit valence for atom # 0 N, 4, is greater than permitted\n",
      "[15:33:07] Explicit valence for atom # 4 N, 4, is greater than permitted\n",
      "[15:33:07] ERROR: Could not sanitize molecule ending on line 376131\n",
      "[15:33:07] ERROR: Explicit valence for atom # 4 N, 4, is greater than permitted\n",
      "[15:33:08] Explicit valence for atom # 6 N, 4, is greater than permitted\n",
      "[15:33:08] ERROR: Could not sanitize molecule ending on line 516765\n",
      "[15:33:08] ERROR: Explicit valence for atom # 6 N, 4, is greater than permitted\n",
      "[15:33:08] Explicit valence for atom # 6 N, 4, is greater than permitted\n",
      "[15:33:08] ERROR: Could not sanitize molecule ending on line 528421\n",
      "[15:33:08] ERROR: Explicit valence for atom # 6 N, 4, is greater than permitted\n",
      "[15:33:08] Explicit valence for atom # 4 N, 4, is greater than permitted\n",
      "[15:33:08] ERROR: Could not sanitize molecule ending on line 536762\n",
      "[15:33:08] ERROR: Explicit valence for atom # 4 N, 4, is greater than permitted\n",
      "[15:33:08] Explicit valence for atom # 3 N, 4, is greater than permitted\n",
      "[15:33:08] ERROR: Could not sanitize molecule ending on line 584560\n",
      "[15:33:08] ERROR: Explicit valence for atom # 3 N, 4, is greater than permitted\n",
      "[15:33:12] Explicit valence for atom # 7 N, 4, is greater than permitted\n",
      "[15:33:12] ERROR: Could not sanitize molecule ending on line 678263\n",
      "[15:33:12] ERROR: Explicit valence for atom # 7 N, 4, is greater than permitted\n",
      "[15:33:12] Explicit valence for atom # 6 N, 4, is greater than permitted\n",
      "[15:33:12] ERROR: Could not sanitize molecule ending on line 678301\n",
      "[15:33:12] ERROR: Explicit valence for atom # 6 N, 4, is greater than permitted\n",
      "[15:33:12] Explicit valence for atom # 4 N, 4, is greater than permitted\n",
      "[15:33:12] ERROR: Could not sanitize molecule ending on line 698935\n",
      "[15:33:12] ERROR: Explicit valence for atom # 4 N, 4, is greater than permitted\n",
      "[15:33:13] Explicit valence for atom # 2 N, 4, is greater than permitted\n",
      "[15:33:13] ERROR: Could not sanitize molecule ending on line 818312\n",
      "[15:33:13] ERROR: Explicit valence for atom # 2 N, 4, is greater than permitted\n",
      "[15:33:13] Explicit valence for atom # 0 N, 4, is greater than permitted\n",
      "[15:33:13] ERROR: Could not sanitize molecule ending on line 818345\n",
      "[15:33:13] ERROR: Explicit valence for atom # 0 N, 4, is greater than permitted\n",
      "[15:33:13] Explicit valence for atom # 0 N, 4, is greater than permitted\n",
      "[15:33:13] ERROR: Could not sanitize molecule ending on line 824417\n",
      "[15:33:13] ERROR: Explicit valence for atom # 0 N, 4, is greater than permitted\n",
      "[15:33:13] Explicit valence for atom # 0 N, 4, is greater than permitted\n",
      "[15:33:13] ERROR: Could not sanitize molecule ending on line 824512\n",
      "[15:33:13] ERROR: Explicit valence for atom # 0 N, 4, is greater than permitted\n"
     ]
    }
   ],
   "source": [
    "tasks, datasets, transformers = dc.molnet.load_qm8(featurizer='ECFP', data_dir='./', save_dir='./')\n",
    "df = pd.DataFrame(data={'smiles': datasets[0].ids})"
   ]
  },
  {
   "cell_type": "code",
   "execution_count": 13,
   "id": "5bb35725",
   "metadata": {},
   "outputs": [],
   "source": [
    "data = df[['smiles']].sample(2500, random_state=42)"
   ]
  },
  {
   "cell_type": "code",
   "execution_count": 14,
   "id": "8bf6b0ae",
   "metadata": {},
   "outputs": [
    {
     "data": {
      "text/plain": [
       "{'H': 1,\n",
       " 'F': 1,\n",
       " 'Cl': 1,\n",
       " 'Br': 1,\n",
       " 'I': 1,\n",
       " 'B': 3,\n",
       " 'B+1': 2,\n",
       " 'B-1': 4,\n",
       " 'O': 2,\n",
       " 'O+1': 3,\n",
       " 'O-1': 1,\n",
       " 'N': 3,\n",
       " 'N+1': 4,\n",
       " 'N-1': 2,\n",
       " 'C': 4,\n",
       " 'C+1': 5,\n",
       " 'C-1': 3,\n",
       " 'P': 5,\n",
       " 'P+1': 6,\n",
       " 'P-1': 4,\n",
       " 'S': 6,\n",
       " 'S+1': 7,\n",
       " 'S-1': 5,\n",
       " '?': 3}"
      ]
     },
     "execution_count": 14,
     "metadata": {},
     "output_type": "execute_result"
    }
   ],
   "source": [
    "sf.set_semantic_constraints()  # reset constraints\n",
    "constraints = sf.get_semantic_constraints()\n",
    "constraints['?'] = 3\n",
    "\n",
    "sf.set_semantic_constraints(constraints)\n",
    "constraints"
   ]
  },
  {
   "cell_type": "code",
   "execution_count": 15,
   "id": "431fc32b",
   "metadata": {},
   "outputs": [],
   "source": [
    "def preprocess_smiles(smiles):\n",
    "  return sf.encoder(smiles)  \n",
    "\n",
    "def keys_int(symbol_to_int):\n",
    "  d={}\n",
    "  i=0\n",
    "  for key in symbol_to_int.keys():\n",
    "    d[i]=key\n",
    "    i+=1\n",
    "  return d\n",
    "\n",
    "data['selfies'] = data['smiles'].apply(preprocess_smiles)"
   ]
  },
  {
   "cell_type": "code",
   "execution_count": 16,
   "id": "186d26aa",
   "metadata": {},
   "outputs": [
    {
     "data": {
      "text/html": [
       "<div>\n",
       "<style scoped>\n",
       "    .dataframe tbody tr th:only-of-type {\n",
       "        vertical-align: middle;\n",
       "    }\n",
       "\n",
       "    .dataframe tbody tr th {\n",
       "        vertical-align: top;\n",
       "    }\n",
       "\n",
       "    .dataframe thead th {\n",
       "        text-align: right;\n",
       "    }\n",
       "</style>\n",
       "<table border=\"1\" class=\"dataframe\">\n",
       "  <thead>\n",
       "    <tr style=\"text-align: right;\">\n",
       "      <th></th>\n",
       "      <th>smiles</th>\n",
       "      <th>selfies</th>\n",
       "      <th>len</th>\n",
       "    </tr>\n",
       "  </thead>\n",
       "  <tbody>\n",
       "    <tr>\n",
       "      <th>13201</th>\n",
       "      <td>O=c1onno1</td>\n",
       "      <td>[O][=C][O][N][=N][O][Ring1][Branch1]</td>\n",
       "      <td>9</td>\n",
       "    </tr>\n",
       "    <tr>\n",
       "      <th>11386</th>\n",
       "      <td>[H]c1nonnc1=O</td>\n",
       "      <td>[H][C][=N][O][N][=N][C][Ring1][=Branch1][=O]</td>\n",
       "      <td>13</td>\n",
       "    </tr>\n",
       "    <tr>\n",
       "      <th>15173</th>\n",
       "      <td>[H]Oc1noc(C#N)n1</td>\n",
       "      <td>[H][O][C][=N][O][C][Branch1][Ring1][C][#N][=N]...</td>\n",
       "      <td>16</td>\n",
       "    </tr>\n",
       "    <tr>\n",
       "      <th>12223</th>\n",
       "      <td>[H]c1nonc(F)c1=O</td>\n",
       "      <td>[H][C][=N][O][N][=C][Branch1][C][F][C][Ring1][...</td>\n",
       "      <td>16</td>\n",
       "    </tr>\n",
       "    <tr>\n",
       "      <th>4026</th>\n",
       "      <td>[H]c1noc(F)nc1=O</td>\n",
       "      <td>[H][C][=N][O][C][Branch1][C][F][=N][C][Ring1][...</td>\n",
       "      <td>16</td>\n",
       "    </tr>\n",
       "  </tbody>\n",
       "</table>\n",
       "</div>"
      ],
      "text/plain": [
       "                 smiles                                            selfies  \\\n",
       "13201         O=c1onno1               [O][=C][O][N][=N][O][Ring1][Branch1]   \n",
       "11386     [H]c1nonnc1=O       [H][C][=N][O][N][=N][C][Ring1][=Branch1][=O]   \n",
       "15173  [H]Oc1noc(C#N)n1  [H][O][C][=N][O][C][Branch1][Ring1][C][#N][=N]...   \n",
       "12223  [H]c1nonc(F)c1=O  [H][C][=N][O][N][=C][Branch1][C][F][C][Ring1][...   \n",
       "4026   [H]c1noc(F)nc1=O  [H][C][=N][O][C][Branch1][C][F][=N][C][Ring1][...   \n",
       "\n",
       "       len  \n",
       "13201    9  \n",
       "11386   13  \n",
       "15173   16  \n",
       "12223   16  \n",
       "4026    16  "
      ]
     },
     "execution_count": 16,
     "metadata": {},
     "output_type": "execute_result"
    }
   ],
   "source": [
    "data['len'] = data['smiles'].apply(lambda x: len(x))\n",
    "data.sort_values(by='len').head()"
   ]
  },
  {
   "cell_type": "code",
   "execution_count": 17,
   "id": "333c915f",
   "metadata": {},
   "outputs": [],
   "source": [
    "selfies_list = np.asanyarray(data.selfies)\n",
    "selfies_alphabet = sf.get_alphabet_from_selfies(selfies_list)\n",
    "selfies_alphabet.add('[nop]')  # Add the \"no operation\" symbol as a padding character\n",
    "selfies_alphabet.add('.') \n",
    "selfies_alphabet = list(sorted(selfies_alphabet))\n",
    "largest_selfie_len = max(sf.len_selfies(s) for s in selfies_list)\n",
    "symbol_to_int = dict((c, i) for i, c in enumerate(selfies_alphabet))\n",
    "int_mol=keys_int(symbol_to_int)"
   ]
  },
  {
   "cell_type": "code",
   "execution_count": 18,
   "id": "c4c8e71a",
   "metadata": {},
   "outputs": [],
   "source": [
    "onehots=sf.batch_selfies_to_flat_hot(selfies_list, symbol_to_int,largest_selfie_len)"
   ]
  },
  {
   "cell_type": "code",
   "execution_count": 19,
   "id": "38283a84",
   "metadata": {},
   "outputs": [],
   "source": [
    "input_tensor = tf.convert_to_tensor(onehots, dtype='float64')\n",
    "noise_tensor = tf.random.uniform(shape=input_tensor.shape, minval=0, maxval=1, dtype='float64')\n",
    "dequantized_data = tf.add(input_tensor, noise_tensor)"
   ]
  },
  {
   "cell_type": "code",
   "execution_count": 20,
   "id": "8ed375f2",
   "metadata": {},
   "outputs": [],
   "source": [
    "input_tensor = tf.convert_to_tensor(onehots, dtype='float64')\n",
    "noise_tensor = tf.random.uniform(shape=input_tensor.shape, minval=0, maxval=1, dtype='float64')\n",
    "dequantized_data = tf.add(input_tensor, noise_tensor)"
   ]
  },
  {
   "cell_type": "code",
   "execution_count": 21,
   "id": "e785116b",
   "metadata": {},
   "outputs": [
    {
     "data": {
      "text/plain": [
       "(2000, 2436)"
      ]
     },
     "execution_count": 21,
     "metadata": {},
     "output_type": "execute_result"
    }
   ],
   "source": [
    "ds = NumpyDataset(dequantized_data)  # Create a DeepChem dataset\n",
    "splitter = RandomSplitter()\n",
    "train, val, test = splitter.train_valid_test_split(dataset=ds, seed=42)\n",
    "train_idx, val_idx, test_idx = splitter.split(dataset=ds, seed=42)\n",
    "\n",
    "dim = len(train.X[0])  # length of one-hot encoded vectors\n",
    "train.X.shape  # 2000 samples, N-dimensional one-hot vectors that represent molecules"
   ]
  },
  {
   "cell_type": "code",
   "execution_count": 22,
   "id": "b47fa639",
   "metadata": {},
   "outputs": [],
   "source": [
    "# SMILES strings of training data\n",
    "train_smiles = data['smiles'].iloc[train_idx].values"
   ]
  },
  {
   "cell_type": "code",
   "execution_count": 23,
   "id": "9e219fe3",
   "metadata": {},
   "outputs": [],
   "source": [
    "base_dist = tfd.MultivariateNormalDiag(loc=np.zeros(dim), scale_diag=np.ones(dim))\n",
    "\n",
    "if dim % 2 == 0:\n",
    "    permutation = tf.cast(np.concatenate((np.arange(dim / 2, dim), np.arange(0, dim / 2))),\n",
    "                                  tf.int32)\n",
    "else:\n",
    "    permutation = tf.cast(np.concatenate((np.arange(dim / 2 + 1, dim), np.arange(0, dim / 2))), tf.int32)"
   ]
  },
  {
   "cell_type": "code",
   "execution_count": 24,
   "id": "59978c75",
   "metadata": {},
   "outputs": [],
   "source": [
    "num_layers = 8\n",
    "flow_layers = []\n",
    "\n",
    "Made = tfb.AutoregressiveNetwork(params=2,\n",
    "                                 hidden_units=[512, 512], activation='relu')\n",
    "\n",
    "for i in range(num_layers):\n",
    "    flow_layers.append(        \n",
    "        (tfb.MaskedAutoregressiveFlow(shift_and_log_scale_fn=Made)\n",
    "    ))\n",
    "\n",
    "    permutation = tf.cast(np.random.permutation(np.arange(0, dim)), tf.int32)\n",
    "    \n",
    "    flow_layers.append(tfb.Permute(permutation=permutation))\n",
    "    \n",
    "#     if (i + 1) % int(2) == 0:\n",
    "#         flow_layers.append(tfb.BatchNormalization())"
   ]
  },
  {
   "cell_type": "code",
   "execution_count": 25,
   "id": "d56bdcf3",
   "metadata": {},
   "outputs": [
    {
     "name": "stdout",
     "output_type": "stream",
     "text": [
      "Wall time: 30 ms\n"
     ]
    }
   ],
   "source": [
    "%%time\n",
    "nf = NormalizingFlow(base_distribution=base_dist,\n",
    "                    flow_layers=flow_layers)"
   ]
  },
  {
   "cell_type": "code",
   "execution_count": 26,
   "id": "d8dc80b4",
   "metadata": {},
   "outputs": [],
   "source": [
    "nfm = NormalizingFlowModel(nf, learning_rate=1e-4, batch_size=128)"
   ]
  },
  {
   "cell_type": "code",
   "execution_count": 29,
   "id": "55695c67",
   "metadata": {},
   "outputs": [],
   "source": [
    "losses = []\n",
    "val_losses = []"
   ]
  },
  {
   "cell_type": "code",
   "execution_count": 30,
   "id": "48460e4a",
   "metadata": {
    "scrolled": true
   },
   "outputs": [
    {
     "name": "stdout",
     "output_type": "stream",
     "text": [
      "WARNING:tensorflow:Model was constructed with shape (None, 2436) for input KerasTensor(type_spec=TensorSpec(shape=(None, 2436), dtype=tf.float64, name='input_8'), name='input_8', description=\"created by layer 'input_8'\"), but it was called on an input with incompatible shape (1, 128, 2436).\n",
      "WARNING:tensorflow:Model was constructed with shape (None, 2436) for input KerasTensor(type_spec=TensorSpec(shape=(None, 2436), dtype=tf.float64, name='input_8'), name='input_8', description=\"created by layer 'input_8'\"), but it was called on an input with incompatible shape (1, 128, 2436).\n",
      "WARNING:tensorflow:Model was constructed with shape (None, 2436) for input KerasTensor(type_spec=TensorSpec(shape=(None, 2436), dtype=tf.float64, name='input_8'), name='input_8', description=\"created by layer 'input_8'\"), but it was called on an input with incompatible shape (1, 128, 2436).\n",
      "WARNING:tensorflow:Model was constructed with shape (None, 2436) for input KerasTensor(type_spec=TensorSpec(shape=(None, 2436), dtype=tf.float64, name='input_8'), name='input_8', description=\"created by layer 'input_8'\"), but it was called on an input with incompatible shape (1, 128, 2436).\n",
      "WARNING:tensorflow:Model was constructed with shape (None, 2436) for input KerasTensor(type_spec=TensorSpec(shape=(None, 2436), dtype=tf.float64, name='input_8'), name='input_8', description=\"created by layer 'input_8'\"), but it was called on an input with incompatible shape (1, 128, 2436).\n",
      "WARNING:tensorflow:Model was constructed with shape (None, 2436) for input KerasTensor(type_spec=TensorSpec(shape=(None, 2436), dtype=tf.float64, name='input_8'), name='input_8', description=\"created by layer 'input_8'\"), but it was called on an input with incompatible shape (1, 128, 2436).\n",
      "WARNING:tensorflow:Model was constructed with shape (None, 2436) for input KerasTensor(type_spec=TensorSpec(shape=(None, 2436), dtype=tf.float64, name='input_8'), name='input_8', description=\"created by layer 'input_8'\"), but it was called on an input with incompatible shape (1, 128, 2436).\n",
      "WARNING:tensorflow:Model was constructed with shape (None, 2436) for input KerasTensor(type_spec=TensorSpec(shape=(None, 2436), dtype=tf.float64, name='input_8'), name='input_8', description=\"created by layer 'input_8'\"), but it was called on an input with incompatible shape (1, 128, 2436).\n",
      "WARNING:tensorflow:Model was constructed with shape (None, 2436) for input KerasTensor(type_spec=TensorSpec(shape=(None, 2436), dtype=tf.float64, name='input_8'), name='input_8', description=\"created by layer 'input_8'\"), but it was called on an input with incompatible shape (1, 128, 2436).\n",
      "WARNING:tensorflow:Model was constructed with shape (None, 2436) for input KerasTensor(type_spec=TensorSpec(shape=(None, 2436), dtype=tf.float64, name='input_8'), name='input_8', description=\"created by layer 'input_8'\"), but it was called on an input with incompatible shape (1, 128, 2436).\n",
      "WARNING:tensorflow:Model was constructed with shape (None, 2436) for input KerasTensor(type_spec=TensorSpec(shape=(None, 2436), dtype=tf.float64, name='input_8'), name='input_8', description=\"created by layer 'input_8'\"), but it was called on an input with incompatible shape (1, 128, 2436).\n",
      "WARNING:tensorflow:Model was constructed with shape (None, 2436) for input KerasTensor(type_spec=TensorSpec(shape=(None, 2436), dtype=tf.float64, name='input_8'), name='input_8', description=\"created by layer 'input_8'\"), but it was called on an input with incompatible shape (1, 128, 2436).\n",
      "WARNING:tensorflow:Model was constructed with shape (None, 2436) for input KerasTensor(type_spec=TensorSpec(shape=(None, 2436), dtype=tf.float64, name='input_8'), name='input_8', description=\"created by layer 'input_8'\"), but it was called on an input with incompatible shape (1, 128, 2436).\n",
      "WARNING:tensorflow:Model was constructed with shape (None, 2436) for input KerasTensor(type_spec=TensorSpec(shape=(None, 2436), dtype=tf.float64, name='input_8'), name='input_8', description=\"created by layer 'input_8'\"), but it was called on an input with incompatible shape (1, 128, 2436).\n",
      "WARNING:tensorflow:Model was constructed with shape (None, 2436) for input KerasTensor(type_spec=TensorSpec(shape=(None, 2436), dtype=tf.float64, name='input_8'), name='input_8', description=\"created by layer 'input_8'\"), but it was called on an input with incompatible shape (1, 128, 2436).\n",
      "WARNING:tensorflow:Model was constructed with shape (None, 2436) for input KerasTensor(type_spec=TensorSpec(shape=(None, 2436), dtype=tf.float64, name='input_8'), name='input_8', description=\"created by layer 'input_8'\"), but it was called on an input with incompatible shape (1, 128, 2436).\n",
      "WARNING:tensorflow:Model was constructed with shape (None, 2436) for input KerasTensor(type_spec=TensorSpec(shape=(None, 2436), dtype=tf.float64, name='input_8'), name='input_8', description=\"created by layer 'input_8'\"), but it was called on an input with incompatible shape (1, 128, 2436).\n",
      "WARNING:tensorflow:Model was constructed with shape (None, 2436) for input KerasTensor(type_spec=TensorSpec(shape=(None, 2436), dtype=tf.float64, name='input_8'), name='input_8', description=\"created by layer 'input_8'\"), but it was called on an input with incompatible shape (1, 128, 2436).\n",
      "WARNING:tensorflow:Model was constructed with shape (None, 2436) for input KerasTensor(type_spec=TensorSpec(shape=(None, 2436), dtype=tf.float64, name='input_8'), name='input_8', description=\"created by layer 'input_8'\"), but it was called on an input with incompatible shape (1, 128, 2436).\n",
      "WARNING:tensorflow:Model was constructed with shape (None, 2436) for input KerasTensor(type_spec=TensorSpec(shape=(None, 2436), dtype=tf.float64, name='input_8'), name='input_8', description=\"created by layer 'input_8'\"), but it was called on an input with incompatible shape (1, 128, 2436).\n",
      "WARNING:tensorflow:Model was constructed with shape (None, 2436) for input KerasTensor(type_spec=TensorSpec(shape=(None, 2436), dtype=tf.float64, name='input_8'), name='input_8', description=\"created by layer 'input_8'\"), but it was called on an input with incompatible shape (1, 128, 2436).\n",
      "WARNING:tensorflow:Model was constructed with shape (None, 2436) for input KerasTensor(type_spec=TensorSpec(shape=(None, 2436), dtype=tf.float64, name='input_8'), name='input_8', description=\"created by layer 'input_8'\"), but it was called on an input with incompatible shape (1, 128, 2436).\n",
      "WARNING:tensorflow:Model was constructed with shape (None, 2436) for input KerasTensor(type_spec=TensorSpec(shape=(None, 2436), dtype=tf.float64, name='input_8'), name='input_8', description=\"created by layer 'input_8'\"), but it was called on an input with incompatible shape (1, 128, 2436).\n",
      "WARNING:tensorflow:Model was constructed with shape (None, 2436) for input KerasTensor(type_spec=TensorSpec(shape=(None, 2436), dtype=tf.float64, name='input_8'), name='input_8', description=\"created by layer 'input_8'\"), but it was called on an input with incompatible shape (1, 128, 2436).\n",
      "WARNING:tensorflow:Model was constructed with shape (None, 2436) for input KerasTensor(type_spec=TensorSpec(shape=(None, 2436), dtype=tf.float64, name='input_8'), name='input_8', description=\"created by layer 'input_8'\"), but it was called on an input with incompatible shape (1, 128, 2436).\n",
      "WARNING:tensorflow:Model was constructed with shape (None, 2436) for input KerasTensor(type_spec=TensorSpec(shape=(None, 2436), dtype=tf.float64, name='input_8'), name='input_8', description=\"created by layer 'input_8'\"), but it was called on an input with incompatible shape (1, 128, 2436).\n",
      "WARNING:tensorflow:Model was constructed with shape (None, 2436) for input KerasTensor(type_spec=TensorSpec(shape=(None, 2436), dtype=tf.float64, name='input_8'), name='input_8', description=\"created by layer 'input_8'\"), but it was called on an input with incompatible shape (1, 128, 2436).\n",
      "WARNING:tensorflow:Model was constructed with shape (None, 2436) for input KerasTensor(type_spec=TensorSpec(shape=(None, 2436), dtype=tf.float64, name='input_8'), name='input_8', description=\"created by layer 'input_8'\"), but it was called on an input with incompatible shape (1, 128, 2436).\n",
      "WARNING:tensorflow:Model was constructed with shape (None, 2436) for input KerasTensor(type_spec=TensorSpec(shape=(None, 2436), dtype=tf.float64, name='input_8'), name='input_8', description=\"created by layer 'input_8'\"), but it was called on an input with incompatible shape (1, 128, 2436).\n"
     ]
    },
    {
     "name": "stdout",
     "output_type": "stream",
     "text": [
      "WARNING:tensorflow:Model was constructed with shape (None, 2436) for input KerasTensor(type_spec=TensorSpec(shape=(None, 2436), dtype=tf.float64, name='input_8'), name='input_8', description=\"created by layer 'input_8'\"), but it was called on an input with incompatible shape (1, 128, 2436).\n",
      "WARNING:tensorflow:Model was constructed with shape (None, 2436) for input KerasTensor(type_spec=TensorSpec(shape=(None, 2436), dtype=tf.float64, name='input_8'), name='input_8', description=\"created by layer 'input_8'\"), but it was called on an input with incompatible shape (1, 128, 2436).\n",
      "WARNING:tensorflow:Model was constructed with shape (None, 2436) for input KerasTensor(type_spec=TensorSpec(shape=(None, 2436), dtype=tf.float64, name='input_8'), name='input_8', description=\"created by layer 'input_8'\"), but it was called on an input with incompatible shape (1, 128, 2436).\n",
      "Wall time: 1min 45s\n"
     ]
    }
   ],
   "source": [
    "%%time\n",
    "max_epochs = 10 # maximum number of epochs of the training\n",
    "\n",
    "for epoch in range(max_epochs):\n",
    "  loss = nfm.fit(train, nb_epoch=1, all_losses=losses)\n",
    "  val_loss = nfm.create_nll(val.X)\n",
    "  val_losses.append(val_loss.numpy())"
   ]
  },
  {
   "cell_type": "code",
   "execution_count": 31,
   "id": "4d85b3dc",
   "metadata": {},
   "outputs": [
    {
     "data": {
      "image/png": "[encoded data removed]",
      "text/plain": [
       "<Figure size 432x288 with 1 Axes>"
      ]
     },
     "metadata": {
      "needs_background": "light"
     },
     "output_type": "display_data"
    }
   ],
   "source": [
    "f, ax = plt.subplots()\n",
    "ax.scatter(range(len(losses)), losses, label='train loss')\n",
    "ax.scatter(range(len(val_losses)), val_losses, label='val loss')\n",
    "plt.legend(loc='upper right');"
   ]
  },
  {
   "cell_type": "code",
   "execution_count": 32,
   "id": "a84a901d",
   "metadata": {},
   "outputs": [],
   "source": [
    "generated_samples = nfm.flow.sample(10)  # generative modeling\n",
    "log_probs = nfm.flow.log_prob(generated_samples)  # probability density estimation"
   ]
  },
  {
   "cell_type": "code",
   "execution_count": 33,
   "id": "276e5bfe",
   "metadata": {},
   "outputs": [],
   "source": [
    "mols = tf.math.floor(generated_samples)  # quantize data\n",
    "mols = tf.clip_by_value(mols, 0, 1)  # Set negative values to 0 and values > 1 to 1\n",
    "mols_list = mols.numpy().tolist()\n",
    "\n",
    "# Add padding characters if needed\n",
    "for mol in mols_list:\n",
    "  for i in range(largest_selfie_len):\n",
    "    row = mol[len(selfies_alphabet) * i: len(selfies_alphabet) * (i + 1)]\n",
    "    if all(elem == 0 for elem in row):\n",
    "      mol[len(selfies_alphabet) * (i+1) - 1] = 1"
   ]
  },
  {
   "cell_type": "code",
   "execution_count": 34,
   "id": "7c46a248",
   "metadata": {},
   "outputs": [],
   "source": [
    "mols=sf.batch_flat_hot_to_selfies(mols_list, int_mol)"
   ]
  },
  {
   "cell_type": "code",
   "execution_count": 35,
   "id": "74f79da9",
   "metadata": {},
   "outputs": [
    {
     "name": "stdout",
     "output_type": "stream",
     "text": [
      "1.00 % of generated samples are valid molecules.\n"
     ]
    }
   ],
   "source": [
    "from rdkit import RDLogger  \n",
    "from rdkit import Chem\n",
    "RDLogger.DisableLog('rdApp.*')  # suppress error messages\n",
    "\n",
    "valid_count = 0\n",
    "valid_selfies, invalid_selfies = [], []\n",
    "for idx, selfies in enumerate(mols):\n",
    "  try:\n",
    "    if Chem.MolFromSmiles(sf.decoder(mols[idx]), sanitize=True) is not None:\n",
    "        valid_count += 1\n",
    "        valid_selfies.append(selfies)\n",
    "    else:\n",
    "      invalid_selfies.append(selfies)\n",
    "  except Exception:\n",
    "    pass\n",
    "print('%.2f' % (valid_count / len(mols)),  '% of generated samples are valid molecules.')"
   ]
  },
  {
   "cell_type": "code",
   "execution_count": 36,
   "id": "bc31f0aa",
   "metadata": {},
   "outputs": [],
   "source": [
    "gen_mols = [Chem.MolFromSmiles(sf.decoder(vs)) for vs in valid_selfies]"
   ]
  },
  {
   "cell_type": "code",
   "execution_count": 37,
   "id": "e2a79994",
   "metadata": {},
   "outputs": [],
   "source": [
    "def display_images(filenames):\n",
    "    \"\"\"Helper to pretty-print images.\"\"\"\n",
    "    for file in filenames:\n",
    "      display(Image(file))\n",
    "\n",
    "def mols_to_pngs(mols, basename=\"generated_mol\"):\n",
    "    \"\"\"Helper to write RDKit mols to png files.\"\"\"\n",
    "    filenames = []\n",
    "    for i, mol in enumerate(mols):\n",
    "        filename = \"%s%d.png\" % (basename, i)\n",
    "        Draw.MolToFile(mol, filename)\n",
    "        filenames.append(filename)\n",
    "    return filenames"
   ]
  },
  {
   "cell_type": "code",
   "execution_count": 38,
   "id": "28b7d956",
   "metadata": {
    "scrolled": false
   },
   "outputs": [
    {
     "data": {
      "image/png": "[encoded data removed]",
      "text/plain": [
       "<IPython.core.display.Image object>"
      ]
     },
     "metadata": {},
     "output_type": "display_data"
    },
    {
     "data": {
      "image/png": "[encoded data removed]",
      "text/plain": [
       "<IPython.core.display.Image object>"
      ]
     },
     "metadata": {},
     "output_type": "display_data"
    },
    {
     "data": {
      "image/png": "[encoded data removed]",
      "text/plain": [
       "<IPython.core.display.Image object>"
      ]
     },
     "metadata": {},
     "output_type": "display_data"
    },
    {
     "data": {
      "image/png": "[encoded data removed]",
      "text/plain": [
       "<IPython.core.display.Image object>"
      ]
     },
     "metadata": {},
     "output_type": "display_data"
    },
    {
     "data": {
      "image/png": "[encoded data removed]",
      "text/plain": [
       "<IPython.core.display.Image object>"
      ]
     },
     "metadata": {},
     "output_type": "display_data"
    },
    {
     "data": {
      "image/png": "[encoded data removed]",
      "text/plain": [
       "<IPython.core.display.Image object>"
      ]
     },
     "metadata": {},
     "output_type": "display_data"
    },
    {
     "data": {
      "image/png": "[encoded data removed]",
      "text/plain": [
       "<IPython.core.display.Image object>"
      ]
     },
     "metadata": {},
     "output_type": "display_data"
    },
    {
     "data": {
      "image/png": "[encoded data removed]",
      "text/plain": [
       "<IPython.core.display.Image object>"
      ]
     },
     "metadata": {},
     "output_type": "display_data"
    },
    {
     "data": {
      "image/png": "[encoded data removed]",
      "text/plain": [
       "<IPython.core.display.Image object>"
      ]
     },
     "metadata": {},
     "output_type": "display_data"
    },
    {
     "data": {
      "image/png": "[encoded data removed]",
      "text/plain": [
       "<IPython.core.display.Image object>"
      ]
     },
     "metadata": {},
     "output_type": "display_data"
    }
   ],
   "source": [
    "display_mols = []\n",
    "for i in range(10):\n",
    "  display_mols.append(gen_mols[i])\n",
    "\n",
    "display_images(mols_to_pngs(display_mols))"
   ]
  },
  {
   "cell_type": "code",
   "execution_count": null,
   "id": "ea049d85",
   "metadata": {},
   "outputs": [],
   "source": []
  }
 ],
 "metadata": {
  "kernelspec": {
   "display_name": "Python 3",
   "language": "python",
   "name": "python3"
  },
  "language_info": {
   "codemirror_mode": {
    "name": "ipython",
    "version": 3
   },
   "file_extension": ".py",
   "mimetype": "text/x-python",
   "name": "python",
   "nbconvert_exporter": "python",
   "pygments_lexer": "ipython3",
   "version": "3.8.8"
  }
 },
 "nbformat": 4,
 "nbformat_minor": 5
}
