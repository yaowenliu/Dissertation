{
 "cells": [
  {
   "cell_type": "markdown",
   "id": "7e29cc32",
   "metadata": {},
   "source": [
    "# Tox21 dataset"
   ]
  },
  {
   "cell_type": "code",
   "execution_count": 1,
   "id": "039cac65",
   "metadata": {},
   "outputs": [],
   "source": [
    "import numpy as np\n",
    "import pandas as pd\n",
    "import deepchem as dc\n",
    "from sklearn.ensemble import RandomForestClassifier\n",
    "from deepchem.models.multitask import SingletaskToMultitask\n",
    "from deepchem import metrics\n",
    "from deepchem.metrics import Metric\n",
    "from deepchem.models.sklearn_models import SklearnModel\n",
    "from deepchem.splits import RandomStratifiedSplitter, RandomSplitter"
   ]
  },
  {
   "cell_type": "code",
   "execution_count": 2,
   "id": "3d245a11",
   "metadata": {},
   "outputs": [],
   "source": [
    "from deepchem.molnet.load_function.tox21_datasets import load_tox21"
   ]
  },
  {
   "cell_type": "code",
   "execution_count": 3,
   "id": "4ff4ad83",
   "metadata": {},
   "outputs": [],
   "source": [
    "tasks_tox21, datasets_tox21, transformers_tox21 = dc.molnet.load_tox21(featurizer='ECFP')"
   ]
  },
  {
   "cell_type": "code",
   "execution_count": 4,
   "id": "e7c30cac",
   "metadata": {},
   "outputs": [],
   "source": [
    "train_dataset_tox21, valid_dataset_tox21, test_dataset_tox21 = datasets_tox21"
   ]
  },
  {
   "cell_type": "code",
   "execution_count": 5,
   "id": "f3ffac14",
   "metadata": {},
   "outputs": [
    {
     "data": {
      "text/plain": [
       "<DiskDataset X.shape: (6264, 1024), y.shape: (6264, 12), w.shape: (6264, 12), task_names: ['NR-AR' 'NR-AR-LBD' 'NR-AhR' ... 'SR-HSE' 'SR-MMP' 'SR-p53']>"
      ]
     },
     "execution_count": 5,
     "metadata": {},
     "output_type": "execute_result"
    }
   ],
   "source": [
    "train_dataset_tox21"
   ]
  },
  {
   "cell_type": "code",
   "execution_count": 7,
   "id": "09421447",
   "metadata": {},
   "outputs": [
    {
     "data": {
      "text/plain": [
       "<DiskDataset X.shape: (784, 1024), y.shape: (784, 12), w.shape: (784, 12), ids: ['CC1(C)S[C@@H]2[C@H](NC(=O)Cc3ccccc3)C(=O)N2[C@H]1C(=O)O.CC1(C)S[C@@H]2[C@H](NC(=O)Cc3ccccc3)C(=O)N2[C@H]1C(=O)O.c1ccc(CNCCNCc2ccccc2)cc1'\n",
       " 'CC(C)(c1ccc(Oc2ccc3c(c2)C(=O)OC3=O)cc1)c1ccc(Oc2ccc3c(c2)C(=O)OC3=O)cc1'\n",
       " 'Cc1cc(C(C)(C)C)c(O)c(C)c1Cn1c(=O)n(Cc2c(C)cc(C(C)(C)C)c(O)c2C)c(=O)n(Cc2c(C)cc(C(C)(C)C)c(O)c2C)c1=O'\n",
       " ... 'CN[C@@H]1C[C@@H](c2ccc(Cl)c(Cl)c2)c2ccccc21'\n",
       " 'Cl/C=C\\\\C[N+]12CN3CN(CN(C3)C1)C2'\n",
       " 'NC(=O)c1ccc[n+]([C@@H]2O[C@H](COP(=O)([O-])OP(=O)(O)OC[C@H]3O[C@@H](n4cnc5c(N)ncnc54)[C@H](O)[C@@H]3O)[C@@H](O)[C@H]2O)c1'], task_names: ['NR-AR' 'NR-AR-LBD' 'NR-AhR' ... 'SR-HSE' 'SR-MMP' 'SR-p53']>"
      ]
     },
     "execution_count": 7,
     "metadata": {},
     "output_type": "execute_result"
    }
   ],
   "source": [
    "test_dataset_tox21"
   ]
  },
  {
   "cell_type": "markdown",
   "id": "69b414f0",
   "metadata": {},
   "source": [
    "MultitaskClassifier"
   ]
  },
  {
   "cell_type": "code",
   "execution_count": 6,
   "id": "8973fc40",
   "metadata": {},
   "outputs": [],
   "source": [
    "model_tox21 = dc.models.MultitaskClassifier(n_tasks=12, n_features=1024, layer_sizes=[1000])"
   ]
  },
  {
   "cell_type": "code",
   "execution_count": 7,
   "id": "389aae80",
   "metadata": {},
   "outputs": [
    {
     "data": {
      "text/plain": [
       "0.4995523452758789"
      ]
     },
     "execution_count": 7,
     "metadata": {},
     "output_type": "execute_result"
    }
   ],
   "source": [
    "model_tox21.fit(train_dataset_tox21, nb_epoch=10)"
   ]
  },
  {
   "cell_type": "code",
   "execution_count": 8,
   "id": "56cb0da1",
   "metadata": {},
   "outputs": [],
   "source": [
    "metric_model_tox21 = dc.metrics.Metric(dc.metrics.roc_auc_score)"
   ]
  },
  {
   "cell_type": "code",
   "execution_count": 9,
   "id": "e2a37e6b",
   "metadata": {},
   "outputs": [
    {
     "name": "stdout",
     "output_type": "stream",
     "text": [
      "train set score: {'roc_auc_score': 0.9580265853779287}\n"
     ]
    }
   ],
   "source": [
    "print('train set score:', model_tox21.evaluate(train_dataset_tox21, [metric_model_tox21], transformers_tox21))"
   ]
  },
  {
   "cell_type": "code",
   "execution_count": 10,
   "id": "56b5d965",
   "metadata": {},
   "outputs": [
    {
     "name": "stdout",
     "output_type": "stream",
     "text": [
      "test set score: {'roc_auc_score': 0.6822617813929436}\n"
     ]
    }
   ],
   "source": [
    "print('test set score:', model_tox21.evaluate(test_dataset_tox21, [metric_model_tox21], transformers_tox21))"
   ]
  },
  {
   "cell_type": "markdown",
   "id": "562aea64",
   "metadata": {},
   "source": [
    "MultitaskFitTransformRegressor"
   ]
  },
  {
   "cell_type": "code",
   "execution_count": 13,
   "id": "a220bd5f",
   "metadata": {},
   "outputs": [],
   "source": [
    "model_Trans_tox21 = dc.models.MultitaskFitTransformRegressor(n_tasks=12, n_features=1024)"
   ]
  },
  {
   "cell_type": "code",
   "execution_count": 14,
   "id": "a2c9f49f",
   "metadata": {},
   "outputs": [
    {
     "data": {
      "text/plain": [
       "0.20931127866109211"
      ]
     },
     "execution_count": 14,
     "metadata": {},
     "output_type": "execute_result"
    }
   ],
   "source": [
    "model_Trans_tox21.fit(train_dataset_tox21, nb_epoch=10)"
   ]
  },
  {
   "cell_type": "code",
   "execution_count": 17,
   "id": "5a4866f4",
   "metadata": {},
   "outputs": [
    {
     "name": "stdout",
     "output_type": "stream",
     "text": [
      "train set score: {'roc_auc_score': 0.04007922279375813}\n"
     ]
    }
   ],
   "source": [
    "print('train set score:', model_Trans_tox21.evaluate(train_dataset_tox21, [metric_model_tox21], transformers_tox21))"
   ]
  },
  {
   "cell_type": "code",
   "execution_count": 16,
   "id": "23372ba7",
   "metadata": {},
   "outputs": [
    {
     "name": "stdout",
     "output_type": "stream",
     "text": [
      "test set score: {'roc_auc_score': 0.32543379182124055}\n"
     ]
    }
   ],
   "source": [
    "print('test set score:', model_Trans_tox21.evaluate(test_dataset_tox21, [metric_model_tox21], transformers_tox21))"
   ]
  },
  {
   "cell_type": "markdown",
   "id": "4f90e44e",
   "metadata": {},
   "source": [
    "GraphConvModel"
   ]
  },
  {
   "cell_type": "code",
   "execution_count": 56,
   "id": "738d54f0",
   "metadata": {},
   "outputs": [],
   "source": [
    "import warnings\n",
    "warnings.filterwarnings(\"ignore\") "
   ]
  },
  {
   "cell_type": "code",
   "execution_count": 24,
   "id": "4c4326f9",
   "metadata": {},
   "outputs": [],
   "source": [
    "tasks, datasets, transformers = dc.molnet.load_tox21(featurizer='GraphConv')\n",
    "train_dataset, valid_dataset, test_dataset = datasets"
   ]
  },
  {
   "cell_type": "code",
   "execution_count": 25,
   "id": "4acd86ca",
   "metadata": {},
   "outputs": [
    {
     "data": {
      "text/plain": [
       "0.27615962982177733"
      ]
     },
     "execution_count": 25,
     "metadata": {},
     "output_type": "execute_result"
    }
   ],
   "source": [
    "n_tasks = len(tasks)\n",
    "model = dc.models.GraphConvModel(n_tasks, mode='classification')\n",
    "model.fit(train_dataset, nb_epoch=50)"
   ]
  },
  {
   "cell_type": "code",
   "execution_count": 26,
   "id": "0b3527ca",
   "metadata": {},
   "outputs": [
    {
     "name": "stdout",
     "output_type": "stream",
     "text": [
      "Training set score: {'roc_auc_score': 0.9715475735659913}\n",
      "Test set score: {'roc_auc_score': 0.6983408032545796}\n"
     ]
    }
   ],
   "source": [
    "metric = dc.metrics.Metric(dc.metrics.roc_auc_score)\n",
    "print('Training set score:', model.evaluate(train_dataset, [metric], transformers))\n",
    "print('Test set score:', model.evaluate(test_dataset, [metric], transformers))"
   ]
  },
  {
   "cell_type": "markdown",
   "id": "eb0de86b",
   "metadata": {},
   "source": [
    "Weave"
   ]
  },
  {
   "cell_type": "code",
   "execution_count": 38,
   "id": "b8906698",
   "metadata": {},
   "outputs": [],
   "source": [
    "model_weave = dc.models.WeaveModel(n_tasks=12, n_weave=2, fully_connected_layer_sizes=[2000, 1000], mode=\"classification\")"
   ]
  },
  {
   "cell_type": "code",
   "execution_count": 35,
   "id": "2e00221a",
   "metadata": {},
   "outputs": [],
   "source": [
    "tasks, datasets, transformers = dc.molnet.load_tox21(featurizer='weave')\n",
    "train_dataset, valid_dataset, test_dataset = datasets"
   ]
  },
  {
   "cell_type": "code",
   "execution_count": 36,
   "id": "082fdab4",
   "metadata": {},
   "outputs": [
    {
     "name": "stdout",
     "output_type": "stream",
     "text": [
      "WARNING:tensorflow:Gradients do not exist for variables ['weave_layer_1/kernel:0', 'weave_layer_1/Variable:0', 'weave_layer_1/kernel:0', 'weave_layer_1/Variable:0', 'weave_layer_1/kernel:0', 'weave_layer_1/Variable:0', 'weave_layer_1/batch_normalization_3/gamma:0', 'weave_layer_1/batch_normalization_3/beta:0', 'weave_layer_1/batch_normalization_4/gamma:0', 'weave_layer_1/batch_normalization_4/beta:0', 'weave_layer_1/batch_normalization_5/gamma:0', 'weave_layer_1/batch_normalization_5/beta:0'] when minimizing the loss. If you're using `model.compile()`, did you forget to provide a `loss`argument?\n",
      "WARNING:tensorflow:Gradients do not exist for variables ['weave_layer_1/kernel:0', 'weave_layer_1/Variable:0', 'weave_layer_1/kernel:0', 'weave_layer_1/Variable:0', 'weave_layer_1/kernel:0', 'weave_layer_1/Variable:0', 'weave_layer_1/batch_normalization_3/gamma:0', 'weave_layer_1/batch_normalization_3/beta:0', 'weave_layer_1/batch_normalization_4/gamma:0', 'weave_layer_1/batch_normalization_4/beta:0', 'weave_layer_1/batch_normalization_5/gamma:0', 'weave_layer_1/batch_normalization_5/beta:0'] when minimizing the loss. If you're using `model.compile()`, did you forget to provide a `loss`argument?\n",
      "WARNING:tensorflow:Gradients do not exist for variables ['weave_layer_1/kernel:0', 'weave_layer_1/Variable:0', 'weave_layer_1/kernel:0', 'weave_layer_1/Variable:0', 'weave_layer_1/kernel:0', 'weave_layer_1/Variable:0', 'weave_layer_1/batch_normalization_3/gamma:0', 'weave_layer_1/batch_normalization_3/beta:0', 'weave_layer_1/batch_normalization_4/gamma:0', 'weave_layer_1/batch_normalization_4/beta:0', 'weave_layer_1/batch_normalization_5/gamma:0', 'weave_layer_1/batch_normalization_5/beta:0'] when minimizing the loss. If you're using `model.compile()`, did you forget to provide a `loss`argument?\n"
     ]
    },
    {
     "data": {
      "text/plain": [
       "0.8516061147054036"
      ]
     },
     "execution_count": 36,
     "metadata": {},
     "output_type": "execute_result"
    }
   ],
   "source": [
    "model_weave.fit(train_dataset, nb_epoch=10)"
   ]
  },
  {
   "cell_type": "code",
   "execution_count": 39,
   "id": "617c980e",
   "metadata": {},
   "outputs": [
    {
     "name": "stdout",
     "output_type": "stream",
     "text": [
      "Training set score: {'roc_auc_score': 0.5450440570812667}\n",
      "Test set score: {'roc_auc_score': 0.5280923748222247}\n"
     ]
    }
   ],
   "source": [
    "metric = dc.metrics.Metric(dc.metrics.roc_auc_score)\n",
    "print('Training set score:', model_weave.evaluate(train_dataset, [metric], transformers))\n",
    "print('Test set score:', model_weave.evaluate(test_dataset, [metric], transformers))"
   ]
  },
  {
   "cell_type": "markdown",
   "id": "2fd3853d",
   "metadata": {},
   "source": [
    "GAT"
   ]
  },
  {
   "cell_type": "code",
   "execution_count": 14,
   "id": "7904af2e",
   "metadata": {
    "scrolled": true
   },
   "outputs": [],
   "source": [
    "tasks, datasets, transformers = dc.molnet.load_tox21(featurizer=dc.feat.MolGraphConvFeaturizer())\n",
    "train_dataset, valid_dataset, test_dataset = datasets"
   ]
  },
  {
   "cell_type": "code",
   "execution_count": 15,
   "id": "74a54907",
   "metadata": {},
   "outputs": [],
   "source": [
    "from deepchem.models import GATModel\n",
    "model_GAT_tox21 = dc.models.GATModel(mode='classification', n_tasks=12,batch_size=16, learning_rate=0.001)"
   ]
  },
  {
   "cell_type": "code",
   "execution_count": 60,
   "id": "1a31b3c0",
   "metadata": {},
   "outputs": [
    {
     "data": {
      "text/plain": [
       "0.7953201293945312"
      ]
     },
     "execution_count": 60,
     "metadata": {},
     "output_type": "execute_result"
    }
   ],
   "source": [
    "model_GAT_tox21.fit(train_dataset, nb_epoch=10)"
   ]
  },
  {
   "cell_type": "code",
   "execution_count": 10,
   "id": "3d1007e9",
   "metadata": {},
   "outputs": [
    {
     "name": "stderr",
     "output_type": "stream",
     "text": [
      "C:\\Users\\ASUS\\anaconda3\\lib\\site-packages\\torch\\autocast_mode.py:162: UserWarning: User provided device_type of 'cuda', but CUDA is not available. Disabling\n",
      "  warnings.warn('User provided device_type of \\'cuda\\', but CUDA is not available. Disabling')\n"
     ]
    },
    {
     "data": {
      "text/plain": [
       "1.0192049662272136"
      ]
     },
     "execution_count": 10,
     "metadata": {},
     "output_type": "execute_result"
    }
   ],
   "source": [
    "model_GAT_tox21.fit(test_dataset, nb_epoch=10)"
   ]
  },
  {
   "cell_type": "code",
   "execution_count": 11,
   "id": "7c72dcc9",
   "metadata": {},
   "outputs": [
    {
     "name": "stdout",
     "output_type": "stream",
     "text": [
      "Training set score: {'roc_auc_score': 0.674109564704637}\n",
      "Test set score: {'roc_auc_score': 0.7381721056185421}\n"
     ]
    }
   ],
   "source": [
    "metric = dc.metrics.Metric(dc.metrics.roc_auc_score)\n",
    "print('Training set score:', model_GAT_tox21.evaluate(train_dataset, [metric], transformers))\n",
    "print('Test set score:', model_GAT_tox21.evaluate(test_dataset, [metric], transformers))"
   ]
  },
  {
   "cell_type": "markdown",
   "id": "365c9f72",
   "metadata": {},
   "source": [
    "GCNModel"
   ]
  },
  {
   "cell_type": "code",
   "execution_count": 20,
   "id": "c56876a4",
   "metadata": {},
   "outputs": [],
   "source": [
    "from deepchem.models import GCNModel\n",
    "model = dc.models.GCNModel(mode='classification', n_tasks=12,batch_size=16, learning_rate=0.001)"
   ]
  },
  {
   "cell_type": "code",
   "execution_count": 21,
   "id": "41a7123f",
   "metadata": {},
   "outputs": [
    {
     "name": "stdout",
     "output_type": "stream",
     "text": [
      "Train set score: {'roc_auc_score': 0.44005264407981715}\n",
      "Test set score: {'roc_auc_score': 0.47255847285854197}\n"
     ]
    }
   ],
   "source": [
    "metric = dc.metrics.Metric(dc.metrics.roc_auc_score)\n",
    "print('Train set score:', model.evaluate(train_dataset, [metric], transformers))\n",
    "print('Test set score:', model.evaluate(test_dataset, [metric], transformers))"
   ]
  },
  {
   "cell_type": "markdown",
   "id": "fd0664c8",
   "metadata": {},
   "source": [
    "调参"
   ]
  },
  {
   "cell_type": "code",
   "execution_count": 42,
   "id": "6d286bbc",
   "metadata": {},
   "outputs": [
    {
     "name": "stdout",
     "output_type": "stream",
     "text": [
      "splitter: random\n",
      "training set score: {'roc_auc_score': 0.9547528213244006}\n",
      "test set score: {'roc_auc_score': 0.781296534108335}\n",
      "\n",
      "splitter: scaffold\n",
      "training set score: {'roc_auc_score': 0.9575370421155002}\n",
      "test set score: {'roc_auc_score': 0.6828622596141388}\n",
      "\n",
      "splitter: butina\n",
      "training set score: {'roc_auc_score': 0.95879692249371}\n",
      "test set score: {'roc_auc_score': 0.6040297412788104}\n",
      "\n"
     ]
    }
   ],
   "source": [
    "splitters = ['random', 'scaffold', 'butina']\n",
    "metric = dc.metrics.Metric(dc.metrics.roc_auc_score)\n",
    "for splitter in splitters:\n",
    "    tasks, datasets, transformers = dc.molnet.load_tox21(featurizer='ECFP', splitter=splitter)\n",
    "    train_dataset, valid_dataset, test_dataset = datase\n",
    "    model = dc.models.MultitaskClassifier(n_tasks=len(tasks), n_features=1024, layer_sizes=[1000])\n",
    "    model.fit(train_dataset, nb_epoch=10)\n",
    "    print('splitter:', splitter)\n",
    "    print('training set score:', model.evaluate(train_dataset, [metric], transformers))\n",
    "    print('test set score:', model.evaluate(test_dataset, [metric], transformers))\n",
    "    print()"
   ]
  },
  {
   "cell_type": "code",
   "execution_count": 45,
   "id": "5d5b97cd",
   "metadata": {},
   "outputs": [
    {
     "name": "stdout",
     "output_type": "stream",
     "text": [
      "nb: 10\n",
      "training set score: {'roc_auc_score': 0.9583504776726373}\n",
      "test set score: {'roc_auc_score': 0.6821396441979536}\n",
      "\n",
      "nb: 20\n",
      "training set score: {'roc_auc_score': 0.9755393704361918}\n",
      "test set score: {'roc_auc_score': 0.6735055360404312}\n",
      "\n",
      "nb: 30\n",
      "training set score: {'roc_auc_score': 0.9838467669681895}\n",
      "test set score: {'roc_auc_score': 0.6725095393238464}\n",
      "\n"
     ]
    }
   ],
   "source": [
    "nb= [10,20,30]\n",
    "metric = dc.metrics.Metric(dc.metrics.roc_auc_score)\n",
    "for nbi in nb:\n",
    "    tasks, datasets, transformers = dc.molnet.load_tox21(featurizer='ECFP')\n",
    "    train_dataset, valid_dataset, test_dataset = datasets\n",
    "    model = dc.models.MultitaskClassifier(n_tasks=len(tasks), n_features=1024, layer_sizes=[1000])\n",
    "    model.fit(train_dataset, nb_epoch=nbi)\n",
    "    print('nb:', nbi)\n",
    "    print('training set score:', model.evaluate(train_dataset, [metric], transformers))\n",
    "    print('test set score:', model.evaluate(test_dataset, [metric], transformers))\n",
    "    print()"
   ]
  },
  {
   "cell_type": "code",
   "execution_count": null,
   "id": "cc0c186f",
   "metadata": {},
   "outputs": [],
   "source": []
  }
 ],
 "metadata": {
  "kernelspec": {
   "display_name": "Python 3",
   "language": "python",
   "name": "python3"
  },
  "language_info": {
   "codemirror_mode": {
    "name": "ipython",
    "version": 3
   },
   "file_extension": ".py",
   "mimetype": "text/x-python",
   "name": "python",
   "nbconvert_exporter": "python",
   "pygments_lexer": "ipython3",
   "version": "3.8.8"
  }
 },
 "nbformat": 4,
 "nbformat_minor": 5
}
