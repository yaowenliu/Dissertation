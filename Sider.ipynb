{
 "cells": [
  {
   "cell_type": "markdown",
   "id": "02c86ba6",
   "metadata": {},
   "source": [
    "# SIDER"
   ]
  },
  {
   "cell_type": "code",
   "execution_count": 1,
   "id": "d808a0c1",
   "metadata": {},
   "outputs": [],
   "source": [
    "import numpy as np\n",
    "import pandas as pd\n",
    "import deepchem as dc\n",
    "from sklearn.ensemble import RandomForestClassifier\n",
    "from deepchem.models.multitask import SingletaskToMultitask\n",
    "from deepchem import metrics\n",
    "from deepchem.metrics import Metric\n",
    "from deepchem.models.sklearn_models import SklearnModel\n",
    "from deepchem.splits import RandomStratifiedSplitter, RandomSplitter"
   ]
  },
  {
   "cell_type": "code",
   "execution_count": 2,
   "id": "f97d7e6a",
   "metadata": {},
   "outputs": [],
   "source": [
    "from deepchem.molnet.load_function.sider_datasets import load_sider"
   ]
  },
  {
   "cell_type": "code",
   "execution_count": 41,
   "id": "48a7b65e",
   "metadata": {},
   "outputs": [],
   "source": [
    "tasks, datasets, transformers = dc.molnet.load_sider(featurizer='ECFP')"
   ]
  },
  {
   "cell_type": "code",
   "execution_count": 42,
   "id": "bee31f5e",
   "metadata": {},
   "outputs": [],
   "source": [
    "train_dataset, valid_dataset, test_dataset = datasets"
   ]
  },
  {
   "cell_type": "code",
   "execution_count": 43,
   "id": "5ad44ce5",
   "metadata": {},
   "outputs": [
    {
     "data": {
      "text/plain": [
       "<DiskDataset X.shape: (143, 1024), y.shape: (143, 27), w.shape: (143, 27), ids: ['C1=CC=C(C=C1)COC(=O)C2=CC=CC=C2'\n",
       " 'CN1C2CCC1CC(C2)OC(C3=CC=CC=C3)C4=CC=CC=C4'\n",
       " 'CC(CC1=CC=CC=C1)N(C)CC2=CC=CC=C2' ...\n",
       " 'CCC12CC(=C)C3C(C1CC[C@]2(C#C)O)CCC4=CC(=O)CCC34'\n",
       " 'CC[C@]12CC(=C)[C@H]3[C@H]([C@@H]1CC[C@]2(C#C)O)CCC4=CCCC[C@H]34'\n",
       " 'CC(C)(C)C1=CC(=C(C=C1NC(=O)C2=CNC3=CC=CC=C3C2=O)O)C(C)(C)C'], task_names: ['Hepatobiliary disorders' 'Metabolism and nutrition disorders'\n",
       " 'Product issues' ... 'Cardiac disorders' 'Nervous system disorders'\n",
       " 'Injury, poisoning and procedural complications']>"
      ]
     },
     "execution_count": 43,
     "metadata": {},
     "output_type": "execute_result"
    }
   ],
   "source": [
    "test_dataset"
   ]
  },
  {
   "cell_type": "code",
   "execution_count": 44,
   "id": "522bd81a",
   "metadata": {},
   "outputs": [
    {
     "data": {
      "text/plain": [
       "<DiskDataset X.shape: (1141, 1024), y.shape: (1141, 27), w.shape: (1141, 27), task_names: ['Hepatobiliary disorders' 'Metabolism and nutrition disorders'\n",
       " 'Product issues' ... 'Cardiac disorders' 'Nervous system disorders'\n",
       " 'Injury, poisoning and procedural complications']>"
      ]
     },
     "execution_count": 44,
     "metadata": {},
     "output_type": "execute_result"
    }
   ],
   "source": [
    "train_dataset"
   ]
  },
  {
   "cell_type": "markdown",
   "id": "72fb22fc",
   "metadata": {},
   "source": [
    "MultitaskClassifier"
   ]
  },
  {
   "cell_type": "code",
   "execution_count": 6,
   "id": "4ad03945",
   "metadata": {},
   "outputs": [],
   "source": [
    "model = dc.models.MultitaskClassifier(n_tasks=27, n_features=1024, layer_sizes=[1000])"
   ]
  },
  {
   "cell_type": "code",
   "execution_count": 7,
   "id": "b079e05e",
   "metadata": {},
   "outputs": [
    {
     "data": {
      "text/plain": [
       "0.9188870429992676"
      ]
     },
     "execution_count": 7,
     "metadata": {},
     "output_type": "execute_result"
    }
   ],
   "source": [
    "model.fit(train_dataset, nb_epoch=10)"
   ]
  },
  {
   "cell_type": "code",
   "execution_count": 8,
   "id": "82ff431d",
   "metadata": {},
   "outputs": [],
   "source": [
    "metric_model = dc.metrics.Metric(dc.metrics.roc_auc_score)"
   ]
  },
  {
   "cell_type": "code",
   "execution_count": 9,
   "id": "d0295c9c",
   "metadata": {},
   "outputs": [
    {
     "name": "stdout",
     "output_type": "stream",
     "text": [
      "train set score: {'roc_auc_score': 0.9290745447301076}\n"
     ]
    }
   ],
   "source": [
    "print('train set score:', model.evaluate(train_dataset, [metric_model], transformers))"
   ]
  },
  {
   "cell_type": "code",
   "execution_count": 10,
   "id": "6854ac85",
   "metadata": {},
   "outputs": [
    {
     "name": "stdout",
     "output_type": "stream",
     "text": [
      "test set score: {'roc_auc_score': 0.6151992763689574}\n"
     ]
    }
   ],
   "source": [
    "print('test set score:', model.evaluate(test_dataset, [metric_model], transformers))"
   ]
  },
  {
   "cell_type": "markdown",
   "id": "21bf6a09",
   "metadata": {},
   "source": [
    "MultitaskFitTransformRegressor"
   ]
  },
  {
   "cell_type": "code",
   "execution_count": 11,
   "id": "bbc8ec5d",
   "metadata": {},
   "outputs": [],
   "source": [
    "model = dc.models.MultitaskFitTransformRegressor(n_tasks=27, n_features=1024)"
   ]
  },
  {
   "cell_type": "code",
   "execution_count": 12,
   "id": "80f64e39",
   "metadata": {},
   "outputs": [
    {
     "data": {
      "text/plain": [
       "0.37460130055745444"
      ]
     },
     "execution_count": 12,
     "metadata": {},
     "output_type": "execute_result"
    }
   ],
   "source": [
    "model.fit(train_dataset, nb_epoch=10)"
   ]
  },
  {
   "cell_type": "code",
   "execution_count": 13,
   "id": "d45488a0",
   "metadata": {},
   "outputs": [
    {
     "name": "stdout",
     "output_type": "stream",
     "text": [
      "train set score: {'roc_auc_score': 0.0576700418843663}\n"
     ]
    }
   ],
   "source": [
    "print('train set score:', model.evaluate(train_dataset, [metric_model], transformers))"
   ]
  },
  {
   "cell_type": "code",
   "execution_count": 14,
   "id": "d47b9a3e",
   "metadata": {},
   "outputs": [
    {
     "name": "stdout",
     "output_type": "stream",
     "text": [
      "test set score: {'roc_auc_score': 0.3925719621749391}\n"
     ]
    }
   ],
   "source": [
    "print('test set score:', model.evaluate(test_dataset, [metric_model], transformers))"
   ]
  },
  {
   "cell_type": "markdown",
   "id": "d87cffd4",
   "metadata": {},
   "source": [
    "GraphConvModel"
   ]
  },
  {
   "cell_type": "code",
   "execution_count": 15,
   "id": "d43feccd",
   "metadata": {},
   "outputs": [],
   "source": [
    "import warnings\n",
    "warnings.filterwarnings(\"ignore\") "
   ]
  },
  {
   "cell_type": "code",
   "execution_count": 16,
   "id": "45238b27",
   "metadata": {},
   "outputs": [],
   "source": [
    "tasks, datasets, transformers = dc.molnet.load_sider(featurizer=dc.feat.ConvMolFeaturizer())\n",
    "train_dataset, valid_dataset, test_dataset = datasets"
   ]
  },
  {
   "cell_type": "code",
   "execution_count": 17,
   "id": "7257b6c9",
   "metadata": {},
   "outputs": [
    {
     "data": {
      "text/plain": [
       "1.0731877326965331"
      ]
     },
     "execution_count": 17,
     "metadata": {},
     "output_type": "execute_result"
    }
   ],
   "source": [
    "model = dc.models.GraphConvModel(n_tasks=27, mode='classification')\n",
    "model.fit(train_dataset, nb_epoch=10)"
   ]
  },
  {
   "cell_type": "code",
   "execution_count": 18,
   "id": "285d004a",
   "metadata": {},
   "outputs": [
    {
     "name": "stdout",
     "output_type": "stream",
     "text": [
      "Training set score: {'roc_auc_score': 0.690278254355499}\n",
      "Test set score: {'roc_auc_score': 0.5840829973639654}\n"
     ]
    }
   ],
   "source": [
    "metric = dc.metrics.Metric(dc.metrics.roc_auc_score)\n",
    "print('Training set score:', model.evaluate(train_dataset, [metric], transformers))\n",
    "print('Test set score:', model.evaluate(test_dataset, [metric], transformers))"
   ]
  },
  {
   "cell_type": "markdown",
   "id": "bc43e662",
   "metadata": {},
   "source": [
    "GATmodel"
   ]
  },
  {
   "cell_type": "code",
   "execution_count": 28,
   "id": "94cdb7ba",
   "metadata": {
    "scrolled": true
   },
   "outputs": [],
   "source": [
    "tasks, datasets, transformers = dc.molnet.load_sider(featurizer=dc.feat.MolGraphConvFeaturizer())\n",
    "train_dataset, valid_dataset, test_dataset = datasets"
   ]
  },
  {
   "cell_type": "code",
   "execution_count": 22,
   "id": "4d1ca92a",
   "metadata": {},
   "outputs": [],
   "source": [
    "from deepchem.models import GATModel\n",
    "model = dc.models.GATModel(mode='classification', n_tasks=27,batch_size=16, learning_rate=0.001)"
   ]
  },
  {
   "cell_type": "code",
   "execution_count": 23,
   "id": "6aca36f8",
   "metadata": {},
   "outputs": [
    {
     "data": {
      "text/plain": [
       "1.344274444580078"
      ]
     },
     "execution_count": 23,
     "metadata": {},
     "output_type": "execute_result"
    }
   ],
   "source": [
    "model.fit(train_dataset, nb_epoch=10)"
   ]
  },
  {
   "cell_type": "code",
   "execution_count": 24,
   "id": "10fb4379",
   "metadata": {},
   "outputs": [
    {
     "name": "stdout",
     "output_type": "stream",
     "text": [
      "Train set score: {'roc_auc_score': 0.6382897487279217}\n",
      "Test set score: {'roc_auc_score': 0.5554644454514539}\n"
     ]
    }
   ],
   "source": [
    "metric = dc.metrics.Metric(dc.metrics.roc_auc_score)\n",
    "print('Train set score:', model.evaluate(train_dataset, [metric], transformers))\n",
    "print('Test set score:', model.evaluate(test_dataset, [metric], transformers))"
   ]
  },
  {
   "cell_type": "markdown",
   "id": "bc15f317",
   "metadata": {},
   "source": [
    "GCNModel"
   ]
  },
  {
   "cell_type": "code",
   "execution_count": 29,
   "id": "903c9bdc",
   "metadata": {},
   "outputs": [],
   "source": [
    "from deepchem.models import GCNModel\n",
    "model = dc.models.GCNModel(mode='classification', n_tasks=27,batch_size=16, learning_rate=0.001)"
   ]
  },
  {
   "cell_type": "code",
   "execution_count": 30,
   "id": "72459260",
   "metadata": {},
   "outputs": [
    {
     "name": "stdout",
     "output_type": "stream",
     "text": [
      "Train set score: {'roc_auc_score': 0.4794227821960575}\n",
      "Test set score: {'roc_auc_score': 0.4963033158728781}\n"
     ]
    }
   ],
   "source": [
    "metric = dc.metrics.Metric(dc.metrics.roc_auc_score)\n",
    "print('Train set score:', model.evaluate(train_dataset, [metric], transformers))\n",
    "print('Test set score:', model.evaluate(test_dataset, [metric], transformers))"
   ]
  },
  {
   "cell_type": "code",
   "execution_count": null,
   "id": "c1b4b345",
   "metadata": {},
   "outputs": [],
   "source": []
  }
 ],
 "metadata": {
  "kernelspec": {
   "display_name": "Python 3",
   "language": "python",
   "name": "python3"
  },
  "language_info": {
   "codemirror_mode": {
    "name": "ipython",
    "version": 3
   },
   "file_extension": ".py",
   "mimetype": "text/x-python",
   "name": "python",
   "nbconvert_exporter": "python",
   "pygments_lexer": "ipython3",
   "version": "3.8.8"
  }
 },
 "nbformat": 4,
 "nbformat_minor": 5
}
