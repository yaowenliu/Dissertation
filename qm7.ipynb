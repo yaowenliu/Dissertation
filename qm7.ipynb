{
 "cells": [
  {
   "cell_type": "markdown",
   "id": "3972aed7",
   "metadata": {},
   "source": [
    "# qm7"
   ]
  },
  {
   "cell_type": "code",
   "execution_count": 20,
   "id": "146b8467",
   "metadata": {},
   "outputs": [],
   "source": [
    "from deepchem.molnet.load_function.qm7_datasets import load_qm7, _QM7Loader\n",
    "import deepchem as dc"
   ]
  },
  {
   "cell_type": "code",
   "execution_count": 21,
   "id": "9688d63e",
   "metadata": {},
   "outputs": [],
   "source": [
    "tasks, datasets, transformers= dc.molnet.load_qm7(featurizer=dc.feat.CoulombMatrix(23), data_dir='./', save_dir='./')"
   ]
  },
  {
   "cell_type": "code",
   "execution_count": 22,
   "id": "0b8f0e3b",
   "metadata": {},
   "outputs": [],
   "source": [
    "train_dataset, valid_dataset, test_dataset = datasets"
   ]
  },
  {
   "cell_type": "code",
   "execution_count": 23,
   "id": "ba1cb249",
   "metadata": {},
   "outputs": [
    {
     "data": {
      "text/plain": [
       "<DiskDataset X.shape: (684, 23, 23), y.shape: (684, 1), w.shape: (684, 1), ids: ['[H]C([H])=C([H])C#C[C@]1([H])N([H])C1([H])[H]'\n",
       " '[H]OC([H])([H])[C@@]1([H])C([H])([H])O[C@]1([H])C([H])([H])[H]'\n",
       " '[H]C([H])=C([H])c1c([H])noc1[H]' ...\n",
       " '[H]C([H])=C([H])C1([H])C([H])([H])N(C([H])([H])[H])C1([H])[H]'\n",
       " '[H]N1C([H])([H])[C@]1([H])C(=O)C([H])([H])[H]'\n",
       " '[H][C]([H])[N]N([H])C([H])([H])C([H])([H])C([H])([H])[H]'], task_names: ['u0_atom']>"
      ]
     },
     "execution_count": 23,
     "metadata": {},
     "output_type": "execute_result"
    }
   ],
   "source": [
    "test_dataset"
   ]
  },
  {
   "cell_type": "code",
   "execution_count": 24,
   "id": "bd14af83",
   "metadata": {},
   "outputs": [
    {
     "data": {
      "text/plain": [
       "<DiskDataset X.shape: (5470, 23, 23), y.shape: (5470, 1), w.shape: (5470, 1), task_names: ['u0_atom']>"
      ]
     },
     "execution_count": 24,
     "metadata": {},
     "output_type": "execute_result"
    }
   ],
   "source": [
    "train_dataset"
   ]
  },
  {
   "cell_type": "markdown",
   "id": "333ce36b",
   "metadata": {},
   "source": [
    "CNN"
   ]
  },
  {
   "cell_type": "code",
   "execution_count": 29,
   "id": "af9ca489",
   "metadata": {},
   "outputs": [],
   "source": [
    "model = dc.models.CNN(n_tasks=1, n_features=23, dims=1, kernel_size=3, mode='regression')"
   ]
  },
  {
   "cell_type": "code",
   "execution_count": 30,
   "id": "a38b71b2",
   "metadata": {},
   "outputs": [
    {
     "name": "stdout",
     "output_type": "stream",
     "text": [
      "train set roc score: 0.8109613037109376\n",
      "test set roc score: 0.8632195472717286\n"
     ]
    }
   ],
   "source": [
    "print('train set roc score:', model.fit(train_dataset, nb_epoch=10))\n",
    "print('test set roc score:', model.fit(test_dataset, nb_epoch=10))"
   ]
  },
  {
   "cell_type": "markdown",
   "id": "8108d520",
   "metadata": {},
   "source": [
    "DTNNModel"
   ]
  },
  {
   "cell_type": "code",
   "execution_count": 6,
   "id": "90e91835",
   "metadata": {},
   "outputs": [],
   "source": [
    "model = dc.models.DTNNModel(n_tasks=1, n_features=23, dims=1, kernel_size=3, mode='regression')"
   ]
  },
  {
   "cell_type": "code",
   "execution_count": 7,
   "id": "ebd5ef27",
   "metadata": {},
   "outputs": [
    {
     "name": "stderr",
     "output_type": "stream",
     "text": [
      "C:\\Users\\ASUS\\anaconda3\\lib\\site-packages\\tensorflow\\python\\framework\\indexed_slices.py:444: UserWarning: Converting sparse IndexedSlices(IndexedSlices(indices=Tensor(\"gradient_tape/model/dtnn_step_1/Reshape_5:0\", shape=(None,), dtype=int32), values=Tensor(\"gradient_tape/model/dtnn_step_1/Reshape_4:0\", shape=(None, 60), dtype=float32), dense_shape=Tensor(\"gradient_tape/model/dtnn_step_1/Cast:0\", shape=(2,), dtype=int32))) to a dense Tensor of unknown shape. This may consume a large amount of memory.\n",
      "  warnings.warn(\n",
      "C:\\Users\\ASUS\\anaconda3\\lib\\site-packages\\tensorflow\\python\\framework\\indexed_slices.py:444: UserWarning: Converting sparse IndexedSlices(IndexedSlices(indices=Tensor(\"gradient_tape/model/dtnn_step/Reshape_5:0\", shape=(None,), dtype=int32), values=Tensor(\"gradient_tape/model/dtnn_step/Reshape_4:0\", shape=(None, 60), dtype=float32), dense_shape=Tensor(\"gradient_tape/model/dtnn_step/Cast:0\", shape=(2,), dtype=int32))) to a dense Tensor of unknown shape. This may consume a large amount of memory.\n",
      "  warnings.warn(\n"
     ]
    },
    {
     "name": "stdout",
     "output_type": "stream",
     "text": [
      "train set roc score: 0.7623508453369141\n",
      "test set roc score: 0.7859579086303711\n"
     ]
    }
   ],
   "source": [
    "print('train set roc score:', model.fit(train_dataset, nb_epoch=10))\n",
    "print('test set roc score:', model.fit(test_dataset, nb_epoch=10))"
   ]
  },
  {
   "cell_type": "code",
   "execution_count": 45,
   "id": "37434468",
   "metadata": {},
   "outputs": [],
   "source": [
    "import numpy as np\n",
    "import matplotlib.pyplot as plt\n",
    "import seaborn as sns\n",
    "import pandas as pd\n",
    "import os\n",
    "\n",
    "import deepchem as dc\n",
    "from deepchem.models.normalizing_flows import NormalizingFlow, NormalizingFlowModel\n",
    "from deepchem.models.optimizers import Adam\n",
    "from deepchem.data import NumpyDataset\n",
    "from deepchem.splits import RandomSplitter\n",
    "from deepchem.molnet import load_tox21\n",
    "\n",
    "import rdkit\n",
    "from rdkit import Chem\n",
    "from rdkit.Chem.Draw import IPythonConsole\n",
    "from rdkit.Chem import Draw\n",
    "\n",
    "from IPython.display import Image, display\n",
    "\n",
    "import selfies as sf\n",
    "\n",
    "import tensorflow as tf\n",
    "import tensorflow_probability as tfp\n",
    "\n",
    "tfd = tfp.distributions\n",
    "tfb = tfp.bijectors\n",
    "tfk = tf.keras\n",
    "\n",
    "tfk.backend.set_floatx('float64')"
   ]
  },
  {
   "cell_type": "markdown",
   "id": "9637facf",
   "metadata": {},
   "source": [
    "Molecular visualization(references:github)"
   ]
  },
  {
   "cell_type": "code",
   "execution_count": 42,
   "id": "2c768e35",
   "metadata": {},
   "outputs": [],
   "source": [
    "tasks, datasets, transformers = dc.molnet.load_qm7(featurizer='ECFP', data_dir='./', save_dir='./')\n",
    "df = pd.DataFrame(data={'smiles': datasets[0].ids})"
   ]
  },
  {
   "cell_type": "code",
   "execution_count": 43,
   "id": "b728a560",
   "metadata": {},
   "outputs": [],
   "source": [
    "data = df[['smiles']].sample(2500, random_state=42)"
   ]
  },
  {
   "cell_type": "code",
   "execution_count": 46,
   "id": "3adcf385",
   "metadata": {},
   "outputs": [
    {
     "data": {
      "text/plain": [
       "{'H': 1,\n",
       " 'F': 1,\n",
       " 'Cl': 1,\n",
       " 'Br': 1,\n",
       " 'I': 1,\n",
       " 'B': 3,\n",
       " 'B+1': 2,\n",
       " 'B-1': 4,\n",
       " 'O': 2,\n",
       " 'O+1': 3,\n",
       " 'O-1': 1,\n",
       " 'N': 3,\n",
       " 'N+1': 4,\n",
       " 'N-1': 2,\n",
       " 'C': 4,\n",
       " 'C+1': 5,\n",
       " 'C-1': 3,\n",
       " 'P': 5,\n",
       " 'P+1': 6,\n",
       " 'P-1': 4,\n",
       " 'S': 6,\n",
       " 'S+1': 7,\n",
       " 'S-1': 5,\n",
       " '?': 3}"
      ]
     },
     "execution_count": 46,
     "metadata": {},
     "output_type": "execute_result"
    }
   ],
   "source": [
    "sf.set_semantic_constraints()  # reset constraints\n",
    "constraints = sf.get_semantic_constraints()\n",
    "constraints['?'] = 3\n",
    "\n",
    "sf.set_semantic_constraints(constraints)\n",
    "constraints"
   ]
  },
  {
   "cell_type": "code",
   "execution_count": 47,
   "id": "4de00711",
   "metadata": {},
   "outputs": [],
   "source": [
    "def preprocess_smiles(smiles):\n",
    "  return sf.encoder(smiles)  \n",
    "\n",
    "def keys_int(symbol_to_int):\n",
    "  d={}\n",
    "  i=0\n",
    "  for key in symbol_to_int.keys():\n",
    "    d[i]=key\n",
    "    i+=1\n",
    "  return d\n",
    "\n",
    "data['selfies'] = data['smiles'].apply(preprocess_smiles)"
   ]
  },
  {
   "cell_type": "code",
   "execution_count": 48,
   "id": "dff77409",
   "metadata": {},
   "outputs": [
    {
     "data": {
      "text/html": [
       "<div>\n",
       "<style scoped>\n",
       "    .dataframe tbody tr th:only-of-type {\n",
       "        vertical-align: middle;\n",
       "    }\n",
       "\n",
       "    .dataframe tbody tr th {\n",
       "        vertical-align: top;\n",
       "    }\n",
       "\n",
       "    .dataframe thead th {\n",
       "        text-align: right;\n",
       "    }\n",
       "</style>\n",
       "<table border=\"1\" class=\"dataframe\">\n",
       "  <thead>\n",
       "    <tr style=\"text-align: right;\">\n",
       "      <th></th>\n",
       "      <th>smiles</th>\n",
       "      <th>selfies</th>\n",
       "      <th>len</th>\n",
       "    </tr>\n",
       "  </thead>\n",
       "  <tbody>\n",
       "    <tr>\n",
       "      <th>2252</th>\n",
       "      <td>[H]C#CC#N</td>\n",
       "      <td>[H][C][#C][C][#N]</td>\n",
       "      <td>9</td>\n",
       "    </tr>\n",
       "    <tr>\n",
       "      <th>2154</th>\n",
       "      <td>[H]C#CC#CC#N</td>\n",
       "      <td>[H][C][#C][C][#C][C][#N]</td>\n",
       "      <td>12</td>\n",
       "    </tr>\n",
       "    <tr>\n",
       "      <th>2231</th>\n",
       "      <td>[H]C#CC#CC#C[H]</td>\n",
       "      <td>[H][C][#C][C][#C][C][#C][H]</td>\n",
       "      <td>15</td>\n",
       "    </tr>\n",
       "    <tr>\n",
       "      <th>2927</th>\n",
       "      <td>[H]C#Cc1nsnc1[H]</td>\n",
       "      <td>[H][C][#C][C][=N][S][N][=C][Ring1][Branch1][H]</td>\n",
       "      <td>16</td>\n",
       "    </tr>\n",
       "    <tr>\n",
       "      <th>1580</th>\n",
       "      <td>[H]C#CC#CC([H])=O</td>\n",
       "      <td>[H][C][#C][C][#C][C][Branch1][C][H][=O]</td>\n",
       "      <td>17</td>\n",
       "    </tr>\n",
       "  </tbody>\n",
       "</table>\n",
       "</div>"
      ],
      "text/plain": [
       "                 smiles                                         selfies  len\n",
       "2252          [H]C#CC#N                               [H][C][#C][C][#N]    9\n",
       "2154       [H]C#CC#CC#N                        [H][C][#C][C][#C][C][#N]   12\n",
       "2231    [H]C#CC#CC#C[H]                     [H][C][#C][C][#C][C][#C][H]   15\n",
       "2927   [H]C#Cc1nsnc1[H]  [H][C][#C][C][=N][S][N][=C][Ring1][Branch1][H]   16\n",
       "1580  [H]C#CC#CC([H])=O         [H][C][#C][C][#C][C][Branch1][C][H][=O]   17"
      ]
     },
     "execution_count": 48,
     "metadata": {},
     "output_type": "execute_result"
    }
   ],
   "source": [
    "data['len'] = data['smiles'].apply(lambda x: len(x))\n",
    "data.sort_values(by='len').head()"
   ]
  },
  {
   "cell_type": "code",
   "execution_count": 49,
   "id": "00c5c9dd",
   "metadata": {},
   "outputs": [],
   "source": [
    "selfies_list = np.asanyarray(data.selfies)\n",
    "selfies_alphabet = sf.get_alphabet_from_selfies(selfies_list)\n",
    "selfies_alphabet.add('[nop]')  # Add the \"no operation\" symbol as a padding character\n",
    "selfies_alphabet.add('.') \n",
    "selfies_alphabet = list(sorted(selfies_alphabet))\n",
    "largest_selfie_len = max(sf.len_selfies(s) for s in selfies_list)\n",
    "symbol_to_int = dict((c, i) for i, c in enumerate(selfies_alphabet))\n",
    "int_mol=keys_int(symbol_to_int)"
   ]
  },
  {
   "cell_type": "code",
   "execution_count": 50,
   "id": "e38da984",
   "metadata": {},
   "outputs": [],
   "source": [
    "onehots=sf.batch_selfies_to_flat_hot(selfies_list, symbol_to_int,largest_selfie_len)"
   ]
  },
  {
   "cell_type": "code",
   "execution_count": 51,
   "id": "a298355e",
   "metadata": {},
   "outputs": [],
   "source": [
    "input_tensor = tf.convert_to_tensor(onehots, dtype='float64')\n",
    "noise_tensor = tf.random.uniform(shape=input_tensor.shape, minval=0, maxval=1, dtype='float64')\n",
    "dequantized_data = tf.add(input_tensor, noise_tensor)"
   ]
  },
  {
   "cell_type": "code",
   "execution_count": 52,
   "id": "e559adf0",
   "metadata": {},
   "outputs": [
    {
     "data": {
      "text/plain": [
       "(2000, 1862)"
      ]
     },
     "execution_count": 52,
     "metadata": {},
     "output_type": "execute_result"
    }
   ],
   "source": [
    "ds = NumpyDataset(dequantized_data)  # Create a DeepChem dataset\n",
    "splitter = RandomSplitter()\n",
    "train, val, test = splitter.train_valid_test_split(dataset=ds, seed=42)\n",
    "train_idx, val_idx, test_idx = splitter.split(dataset=ds, seed=42)\n",
    "\n",
    "dim = len(train.X[0])  # length of one-hot encoded vectors\n",
    "train.X.shape  # 2000 samples, N-dimensional one-hot vectors that represent molecules"
   ]
  },
  {
   "cell_type": "code",
   "execution_count": 53,
   "id": "b7225e1d",
   "metadata": {},
   "outputs": [],
   "source": [
    "# SMILES strings of training data\n",
    "train_smiles = data['smiles'].iloc[train_idx].values"
   ]
  },
  {
   "cell_type": "code",
   "execution_count": 54,
   "id": "1bfc7dfe",
   "metadata": {},
   "outputs": [],
   "source": [
    "base_dist = tfd.MultivariateNormalDiag(loc=np.zeros(dim), scale_diag=np.ones(dim))\n",
    "\n",
    "if dim % 2 == 0:\n",
    "    permutation = tf.cast(np.concatenate((np.arange(dim / 2, dim), np.arange(0, dim / 2))),\n",
    "                                  tf.int32)\n",
    "else:\n",
    "    permutation = tf.cast(np.concatenate((np.arange(dim / 2 + 1, dim), np.arange(0, dim / 2))), tf.int32)"
   ]
  },
  {
   "cell_type": "code",
   "execution_count": 55,
   "id": "084cec99",
   "metadata": {},
   "outputs": [],
   "source": [
    "num_layers = 8\n",
    "flow_layers = []\n",
    "\n",
    "Made = tfb.AutoregressiveNetwork(params=2,\n",
    "                                 hidden_units=[512, 512], activation='relu')\n",
    "\n",
    "for i in range(num_layers):\n",
    "    flow_layers.append(        \n",
    "        (tfb.MaskedAutoregressiveFlow(shift_and_log_scale_fn=Made)\n",
    "    ))\n",
    "\n",
    "    permutation = tf.cast(np.random.permutation(np.arange(0, dim)), tf.int32)\n",
    "    \n",
    "    flow_layers.append(tfb.Permute(permutation=permutation))\n",
    "    \n",
    "#     if (i + 1) % int(2) == 0:\n",
    "#         flow_layers.append(tfb.BatchNormalization())"
   ]
  },
  {
   "cell_type": "code",
   "execution_count": 56,
   "id": "324a3297",
   "metadata": {},
   "outputs": [
    {
     "name": "stdout",
     "output_type": "stream",
     "text": [
      "Wall time: 28 ms\n"
     ]
    }
   ],
   "source": [
    "%%time\n",
    "nf = NormalizingFlow(base_distribution=base_dist,\n",
    "                    flow_layers=flow_layers)"
   ]
  },
  {
   "cell_type": "code",
   "execution_count": 57,
   "id": "290e7af5",
   "metadata": {},
   "outputs": [],
   "source": [
    "nfm = NormalizingFlowModel(nf, learning_rate=1e-4, batch_size=128)"
   ]
  },
  {
   "cell_type": "code",
   "execution_count": 58,
   "id": "fd292716",
   "metadata": {},
   "outputs": [],
   "source": [
    "losses = []\n",
    "val_losses = []"
   ]
  },
  {
   "cell_type": "code",
   "execution_count": 59,
   "id": "4b91e938",
   "metadata": {
    "scrolled": true
   },
   "outputs": [
    {
     "name": "stdout",
     "output_type": "stream",
     "text": [
      "WARNING:tensorflow:Model was constructed with shape (None, 1862) for input KerasTensor(type_spec=TensorSpec(shape=(None, 1862), dtype=tf.float64, name='input_26'), name='input_26', description=\"created by layer 'input_26'\"), but it was called on an input with incompatible shape (1, 128, 1862).\n",
      "WARNING:tensorflow:Model was constructed with shape (None, 1862) for input KerasTensor(type_spec=TensorSpec(shape=(None, 1862), dtype=tf.float64, name='input_26'), name='input_26', description=\"created by layer 'input_26'\"), but it was called on an input with incompatible shape (1, 128, 1862).\n",
      "WARNING:tensorflow:Model was constructed with shape (None, 1862) for input KerasTensor(type_spec=TensorSpec(shape=(None, 1862), dtype=tf.float64, name='input_26'), name='input_26', description=\"created by layer 'input_26'\"), but it was called on an input with incompatible shape (1, 128, 1862).\n",
      "WARNING:tensorflow:Model was constructed with shape (None, 1862) for input KerasTensor(type_spec=TensorSpec(shape=(None, 1862), dtype=tf.float64, name='input_26'), name='input_26', description=\"created by layer 'input_26'\"), but it was called on an input with incompatible shape (1, 128, 1862).\n",
      "WARNING:tensorflow:Model was constructed with shape (None, 1862) for input KerasTensor(type_spec=TensorSpec(shape=(None, 1862), dtype=tf.float64, name='input_26'), name='input_26', description=\"created by layer 'input_26'\"), but it was called on an input with incompatible shape (1, 128, 1862).\n",
      "WARNING:tensorflow:Model was constructed with shape (None, 1862) for input KerasTensor(type_spec=TensorSpec(shape=(None, 1862), dtype=tf.float64, name='input_26'), name='input_26', description=\"created by layer 'input_26'\"), but it was called on an input with incompatible shape (1, 128, 1862).\n",
      "WARNING:tensorflow:Model was constructed with shape (None, 1862) for input KerasTensor(type_spec=TensorSpec(shape=(None, 1862), dtype=tf.float64, name='input_26'), name='input_26', description=\"created by layer 'input_26'\"), but it was called on an input with incompatible shape (1, 128, 1862).\n",
      "WARNING:tensorflow:Model was constructed with shape (None, 1862) for input KerasTensor(type_spec=TensorSpec(shape=(None, 1862), dtype=tf.float64, name='input_26'), name='input_26', description=\"created by layer 'input_26'\"), but it was called on an input with incompatible shape (1, 128, 1862).\n",
      "WARNING:tensorflow:Model was constructed with shape (None, 1862) for input KerasTensor(type_spec=TensorSpec(shape=(None, 1862), dtype=tf.float64, name='input_26'), name='input_26', description=\"created by layer 'input_26'\"), but it was called on an input with incompatible shape (1, 128, 1862).\n",
      "WARNING:tensorflow:Model was constructed with shape (None, 1862) for input KerasTensor(type_spec=TensorSpec(shape=(None, 1862), dtype=tf.float64, name='input_26'), name='input_26', description=\"created by layer 'input_26'\"), but it was called on an input with incompatible shape (1, 128, 1862).\n",
      "WARNING:tensorflow:Model was constructed with shape (None, 1862) for input KerasTensor(type_spec=TensorSpec(shape=(None, 1862), dtype=tf.float64, name='input_26'), name='input_26', description=\"created by layer 'input_26'\"), but it was called on an input with incompatible shape (1, 128, 1862).\n",
      "WARNING:tensorflow:Model was constructed with shape (None, 1862) for input KerasTensor(type_spec=TensorSpec(shape=(None, 1862), dtype=tf.float64, name='input_26'), name='input_26', description=\"created by layer 'input_26'\"), but it was called on an input with incompatible shape (1, 128, 1862).\n",
      "WARNING:tensorflow:Model was constructed with shape (None, 1862) for input KerasTensor(type_spec=TensorSpec(shape=(None, 1862), dtype=tf.float64, name='input_26'), name='input_26', description=\"created by layer 'input_26'\"), but it was called on an input with incompatible shape (1, 128, 1862).\n",
      "WARNING:tensorflow:Model was constructed with shape (None, 1862) for input KerasTensor(type_spec=TensorSpec(shape=(None, 1862), dtype=tf.float64, name='input_26'), name='input_26', description=\"created by layer 'input_26'\"), but it was called on an input with incompatible shape (1, 128, 1862).\n",
      "WARNING:tensorflow:Model was constructed with shape (None, 1862) for input KerasTensor(type_spec=TensorSpec(shape=(None, 1862), dtype=tf.float64, name='input_26'), name='input_26', description=\"created by layer 'input_26'\"), but it was called on an input with incompatible shape (1, 128, 1862).\n",
      "WARNING:tensorflow:Model was constructed with shape (None, 1862) for input KerasTensor(type_spec=TensorSpec(shape=(None, 1862), dtype=tf.float64, name='input_26'), name='input_26', description=\"created by layer 'input_26'\"), but it was called on an input with incompatible shape (1, 128, 1862).\n",
      "WARNING:tensorflow:Model was constructed with shape (None, 1862) for input KerasTensor(type_spec=TensorSpec(shape=(None, 1862), dtype=tf.float64, name='input_26'), name='input_26', description=\"created by layer 'input_26'\"), but it was called on an input with incompatible shape (1, 128, 1862).\n",
      "WARNING:tensorflow:Model was constructed with shape (None, 1862) for input KerasTensor(type_spec=TensorSpec(shape=(None, 1862), dtype=tf.float64, name='input_26'), name='input_26', description=\"created by layer 'input_26'\"), but it was called on an input with incompatible shape (1, 128, 1862).\n",
      "WARNING:tensorflow:Model was constructed with shape (None, 1862) for input KerasTensor(type_spec=TensorSpec(shape=(None, 1862), dtype=tf.float64, name='input_26'), name='input_26', description=\"created by layer 'input_26'\"), but it was called on an input with incompatible shape (1, 128, 1862).\n",
      "WARNING:tensorflow:Model was constructed with shape (None, 1862) for input KerasTensor(type_spec=TensorSpec(shape=(None, 1862), dtype=tf.float64, name='input_26'), name='input_26', description=\"created by layer 'input_26'\"), but it was called on an input with incompatible shape (1, 128, 1862).\n",
      "WARNING:tensorflow:Model was constructed with shape (None, 1862) for input KerasTensor(type_spec=TensorSpec(shape=(None, 1862), dtype=tf.float64, name='input_26'), name='input_26', description=\"created by layer 'input_26'\"), but it was called on an input with incompatible shape (1, 128, 1862).\n",
      "WARNING:tensorflow:Model was constructed with shape (None, 1862) for input KerasTensor(type_spec=TensorSpec(shape=(None, 1862), dtype=tf.float64, name='input_26'), name='input_26', description=\"created by layer 'input_26'\"), but it was called on an input with incompatible shape (1, 128, 1862).\n",
      "WARNING:tensorflow:Model was constructed with shape (None, 1862) for input KerasTensor(type_spec=TensorSpec(shape=(None, 1862), dtype=tf.float64, name='input_26'), name='input_26', description=\"created by layer 'input_26'\"), but it was called on an input with incompatible shape (1, 128, 1862).\n",
      "WARNING:tensorflow:Model was constructed with shape (None, 1862) for input KerasTensor(type_spec=TensorSpec(shape=(None, 1862), dtype=tf.float64, name='input_26'), name='input_26', description=\"created by layer 'input_26'\"), but it was called on an input with incompatible shape (1, 128, 1862).\n",
      "WARNING:tensorflow:Model was constructed with shape (None, 1862) for input KerasTensor(type_spec=TensorSpec(shape=(None, 1862), dtype=tf.float64, name='input_26'), name='input_26', description=\"created by layer 'input_26'\"), but it was called on an input with incompatible shape (1, 128, 1862).\n",
      "WARNING:tensorflow:Model was constructed with shape (None, 1862) for input KerasTensor(type_spec=TensorSpec(shape=(None, 1862), dtype=tf.float64, name='input_26'), name='input_26', description=\"created by layer 'input_26'\"), but it was called on an input with incompatible shape (1, 128, 1862).\n",
      "WARNING:tensorflow:Model was constructed with shape (None, 1862) for input KerasTensor(type_spec=TensorSpec(shape=(None, 1862), dtype=tf.float64, name='input_26'), name='input_26', description=\"created by layer 'input_26'\"), but it was called on an input with incompatible shape (1, 128, 1862).\n",
      "WARNING:tensorflow:Model was constructed with shape (None, 1862) for input KerasTensor(type_spec=TensorSpec(shape=(None, 1862), dtype=tf.float64, name='input_26'), name='input_26', description=\"created by layer 'input_26'\"), but it was called on an input with incompatible shape (1, 128, 1862).\n"
     ]
    },
    {
     "name": "stdout",
     "output_type": "stream",
     "text": [
      "WARNING:tensorflow:Model was constructed with shape (None, 1862) for input KerasTensor(type_spec=TensorSpec(shape=(None, 1862), dtype=tf.float64, name='input_26'), name='input_26', description=\"created by layer 'input_26'\"), but it was called on an input with incompatible shape (1, 128, 1862).\n",
      "WARNING:tensorflow:Model was constructed with shape (None, 1862) for input KerasTensor(type_spec=TensorSpec(shape=(None, 1862), dtype=tf.float64, name='input_26'), name='input_26', description=\"created by layer 'input_26'\"), but it was called on an input with incompatible shape (1, 128, 1862).\n",
      "WARNING:tensorflow:Model was constructed with shape (None, 1862) for input KerasTensor(type_spec=TensorSpec(shape=(None, 1862), dtype=tf.float64, name='input_26'), name='input_26', description=\"created by layer 'input_26'\"), but it was called on an input with incompatible shape (1, 128, 1862).\n",
      "WARNING:tensorflow:Model was constructed with shape (None, 1862) for input KerasTensor(type_spec=TensorSpec(shape=(None, 1862), dtype=tf.float64, name='input_26'), name='input_26', description=\"created by layer 'input_26'\"), but it was called on an input with incompatible shape (1, 128, 1862).\n",
      "Wall time: 1min 29s\n"
     ]
    }
   ],
   "source": [
    "%%time\n",
    "max_epochs = 10 # maximum number of epochs of the training\n",
    "\n",
    "for epoch in range(max_epochs):\n",
    "  loss = nfm.fit(train, nb_epoch=1, all_losses=losses)\n",
    "  val_loss = nfm.create_nll(val.X)\n",
    "  val_losses.append(val_loss.numpy())"
   ]
  },
  {
   "cell_type": "code",
   "execution_count": 60,
   "id": "7280e238",
   "metadata": {},
   "outputs": [
    {
     "data": {
      "image/png": "[encoded data removed]",
      "text/plain": [
       "<Figure size 432x288 with 1 Axes>"
      ]
     },
     "metadata": {
      "needs_background": "light"
     },
     "output_type": "display_data"
    }
   ],
   "source": [
    "f, ax = plt.subplots()\n",
    "ax.scatter(range(len(losses)), losses, label='train loss')\n",
    "ax.scatter(range(len(val_losses)), val_losses, label='val loss')\n",
    "plt.legend(loc='upper right');"
   ]
  },
  {
   "cell_type": "code",
   "execution_count": 61,
   "id": "bd838a5c",
   "metadata": {},
   "outputs": [],
   "source": [
    "generated_samples = nfm.flow.sample(10)  # generative modeling\n",
    "log_probs = nfm.flow.log_prob(generated_samples)  # probability density estimation"
   ]
  },
  {
   "cell_type": "code",
   "execution_count": 62,
   "id": "0bd38747",
   "metadata": {},
   "outputs": [],
   "source": [
    "mols = tf.math.floor(generated_samples)  # quantize data\n",
    "mols = tf.clip_by_value(mols, 0, 1)  # Set negative values to 0 and values > 1 to 1\n",
    "mols_list = mols.numpy().tolist()\n",
    "\n",
    "# Add padding characters if needed\n",
    "for mol in mols_list:\n",
    "  for i in range(largest_selfie_len):\n",
    "    row = mol[len(selfies_alphabet) * i: len(selfies_alphabet) * (i + 1)]\n",
    "    if all(elem == 0 for elem in row):\n",
    "      mol[len(selfies_alphabet) * (i+1) - 1] = 1"
   ]
  },
  {
   "cell_type": "code",
   "execution_count": 63,
   "id": "fe5f755d",
   "metadata": {},
   "outputs": [],
   "source": [
    "mols=sf.batch_flat_hot_to_selfies(mols_list, int_mol)"
   ]
  },
  {
   "cell_type": "code",
   "execution_count": 64,
   "id": "a8efe49f",
   "metadata": {},
   "outputs": [
    {
     "name": "stdout",
     "output_type": "stream",
     "text": [
      "1.00 % of generated samples are valid molecules.\n"
     ]
    }
   ],
   "source": [
    "from rdkit import RDLogger  \n",
    "from rdkit import Chem\n",
    "RDLogger.DisableLog('rdApp.*')  # suppress error messages\n",
    "\n",
    "valid_count = 0\n",
    "valid_selfies, invalid_selfies = [], []\n",
    "for idx, selfies in enumerate(mols):\n",
    "  try:\n",
    "    if Chem.MolFromSmiles(sf.decoder(mols[idx]), sanitize=True) is not None:\n",
    "        valid_count += 1\n",
    "        valid_selfies.append(selfies)\n",
    "    else:\n",
    "      invalid_selfies.append(selfies)\n",
    "  except Exception:\n",
    "    pass\n",
    "print('%.2f' % (valid_count / len(mols)),  '% of generated samples are valid molecules.')"
   ]
  },
  {
   "cell_type": "code",
   "execution_count": 65,
   "id": "32246a2f",
   "metadata": {},
   "outputs": [],
   "source": [
    "gen_mols = [Chem.MolFromSmiles(sf.decoder(vs)) for vs in valid_selfies]"
   ]
  },
  {
   "cell_type": "code",
   "execution_count": 66,
   "id": "bd97dee3",
   "metadata": {},
   "outputs": [],
   "source": [
    "def display_images(filenames):\n",
    "    \"\"\"Helper to pretty-print images.\"\"\"\n",
    "    for file in filenames:\n",
    "      display(Image(file))\n",
    "\n",
    "def mols_to_pngs(mols, basename=\"generated_mol\"):\n",
    "    \"\"\"Helper to write RDKit mols to png files.\"\"\"\n",
    "    filenames = []\n",
    "    for i, mol in enumerate(mols):\n",
    "        filename = \"%s%d.png\" % (basename, i)\n",
    "        Draw.MolToFile(mol, filename)\n",
    "        filenames.append(filename)\n",
    "    return filenames"
   ]
  },
  {
   "cell_type": "code",
   "execution_count": 67,
   "id": "9e484103",
   "metadata": {
    "scrolled": false
   },
   "outputs": [
    {
     "data": {
      "image/png": "[encoded data removed]",
      "text/plain": [
       "<IPython.core.display.Image object>"
      ]
     },
     "metadata": {},
     "output_type": "display_data"
    },
    {
     "data": {
      "image/png": "[encoded data removed]",
      "text/plain": [
       "<IPython.core.display.Image object>"
      ]
     },
     "metadata": {},
     "output_type": "display_data"
    },
    {
     "data": {
      "image/png": "[encoded data removed]",
      "text/plain": [
       "<IPython.core.display.Image object>"
      ]
     },
     "metadata": {},
     "output_type": "display_data"
    },
    {
     "data": {
      "image/png": "[encoded data removed]",
      "text/plain": [
       "<IPython.core.display.Image object>"
      ]
     },
     "metadata": {},
     "output_type": "display_data"
    },
    {
     "data": {
      "image/png": "[encoded data removed]",
      "text/plain": [
       "<IPython.core.display.Image object>"
      ]
     },
     "metadata": {},
     "output_type": "display_data"
    },
    {
     "data": {
      "image/png": "[encoded data removed]",
      "text/plain": [
       "<IPython.core.display.Image object>"
      ]
     },
     "metadata": {},
     "output_type": "display_data"
    },
    {
     "data": {
      "image/png": "[encoded data removed]",
      "text/plain": [
       "<IPython.core.display.Image object>"
      ]
     },
     "metadata": {},
     "output_type": "display_data"
    },
    {
     "data": {
      "image/png": "[encoded data removed]",
      "text/plain": [
       "<IPython.core.display.Image object>"
      ]
     },
     "metadata": {},
     "output_type": "display_data"
    },
    {
     "data": {
      "image/png": "[encoded data removed]",
      "text/plain": [
       "<IPython.core.display.Image object>"
      ]
     },
     "metadata": {},
     "output_type": "display_data"
    },
    {
     "data": {
      "image/png": "[encoded data removed]",
      "text/plain": [
       "<IPython.core.display.Image object>"
      ]
     },
     "metadata": {},
     "output_type": "display_data"
    }
   ],
   "source": [
    "display_mols = []\n",
    "for i in range(10):\n",
    "  display_mols.append(gen_mols[i])\n",
    "\n",
    "display_images(mols_to_pngs(display_mols))"
   ]
  },
  {
   "cell_type": "code",
   "execution_count": null,
   "id": "d942f1e6",
   "metadata": {},
   "outputs": [],
   "source": []
  }
 ],
 "metadata": {
  "kernelspec": {
   "display_name": "Python 3",
   "language": "python",
   "name": "python3"
  },
  "language_info": {
   "codemirror_mode": {
    "name": "ipython",
    "version": 3
   },
   "file_extension": ".py",
   "mimetype": "text/x-python",
   "name": "python",
   "nbconvert_exporter": "python",
   "pygments_lexer": "ipython3",
   "version": "3.8.8"
  }
 },
 "nbformat": 4,
 "nbformat_minor": 5
}
