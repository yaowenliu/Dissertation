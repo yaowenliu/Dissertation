{
 "cells": [
  {
   "cell_type": "markdown",
   "id": "3496d974",
   "metadata": {},
   "source": [
    "# ClinTox"
   ]
  },
  {
   "cell_type": "code",
   "execution_count": 1,
   "id": "63c29342",
   "metadata": {},
   "outputs": [],
   "source": [
    "import numpy as np\n",
    "import pandas as pd\n",
    "import deepchem as dc\n",
    "from sklearn.ensemble import RandomForestClassifier\n",
    "from deepchem.models.multitask import SingletaskToMultitask\n",
    "from deepchem import metrics\n",
    "from deepchem.metrics import Metric\n",
    "from deepchem.models.sklearn_models import SklearnModel\n",
    "from deepchem.splits import RandomStratifiedSplitter, RandomSplitter"
   ]
  },
  {
   "cell_type": "code",
   "execution_count": 5,
   "id": "191193b7",
   "metadata": {},
   "outputs": [],
   "source": [
    "from deepchem.molnet.load_function.clintox_datasets import load_clintox\n",
    "tasks, datasets, transformers = dc.molnet.load_clintox(featurizer='ECFP')\n",
    "train_dataset, valid_dataset, test_dataset = datasets"
   ]
  },
  {
   "cell_type": "code",
   "execution_count": 6,
   "id": "3533a754",
   "metadata": {},
   "outputs": [
    {
     "data": {
      "text/plain": [
       "<DiskDataset X.shape: (148, 1024), y.shape: (148, 2), w.shape: (148, 2), ids: ['C[C@@]1(C(=O)N2[C@H](C(=O)N3CCC[C@H]3[C@@]2(O1)O)Cc4ccccc4)NC(=O)[C@@H]5C[C@@H]6c7cccc8c7c(c[nH]8)C[C@H]6[NH+](C5)C'\n",
       " 'C[C@@]1([C@@H](N2[C@H](S1(=O)=O)CC2=O)C(=O)[O-])Cn3ccnn3'\n",
       " 'C[C@@](c1ccccc1)(c2ccc(cc2)Cl)OCC[C@H]3CCC[NH+]3C' ...\n",
       " 'C#CC[NH2+][C@@H]1CCc2c1cccc2'\n",
       " '[H]/[NH+]=C(\\\\N)/c1ccc(cc1)OCCCCCOc2ccc(cc2)/C(=[NH+]/[H])/N'\n",
       " '[H]/[NH+]=C(/C1=CC(=O)/C(=C\\\\C=c2ccc(=C([NH3+])N)cc2)/C=C1)\\\\N'], task_names: ['FDA_APPROVED' 'CT_TOX']>"
      ]
     },
     "execution_count": 6,
     "metadata": {},
     "output_type": "execute_result"
    }
   ],
   "source": [
    "test_dataset"
   ]
  },
  {
   "cell_type": "code",
   "execution_count": 7,
   "id": "b9f91a39",
   "metadata": {},
   "outputs": [
    {
     "data": {
      "text/plain": [
       "<DiskDataset X.shape: (1182, 1024), y.shape: (1182, 2), w.shape: (1182, 2), task_names: ['FDA_APPROVED' 'CT_TOX']>"
      ]
     },
     "execution_count": 7,
     "metadata": {},
     "output_type": "execute_result"
    }
   ],
   "source": [
    "train_dataset"
   ]
  },
  {
   "cell_type": "markdown",
   "id": "4c8eb0da",
   "metadata": {},
   "source": [
    "MultitaskClassifier"
   ]
  },
  {
   "cell_type": "code",
   "execution_count": 8,
   "id": "3167aeab",
   "metadata": {},
   "outputs": [],
   "source": [
    "model = dc.models.MultitaskClassifier(n_tasks=2, n_features=1024, layer_sizes=[1000])"
   ]
  },
  {
   "cell_type": "code",
   "execution_count": 10,
   "id": "794452b8",
   "metadata": {},
   "outputs": [
    {
     "name": "stdout",
     "output_type": "stream",
     "text": [
      "train set score: {'roc_auc_score': 0.992225036304071}\n",
      "test set score: {'roc_auc_score': 0.6440308622667084}\n"
     ]
    }
   ],
   "source": [
    "metric_model = dc.metrics.Metric(dc.metrics.roc_auc_score)\n",
    "print('train set score:', model.evaluate(train_dataset, [metric_model], transformers))\n",
    "print('test set score:', model.evaluate(test_dataset, [metric_model], transformers))"
   ]
  },
  {
   "cell_type": "markdown",
   "id": "707cfa02",
   "metadata": {},
   "source": [
    "MultitaskFitTransformRegressor"
   ]
  },
  {
   "cell_type": "code",
   "execution_count": 11,
   "id": "e035feda",
   "metadata": {},
   "outputs": [],
   "source": [
    "model = dc.models.MultitaskFitTransformRegressor(n_tasks=2, n_features=1024)"
   ]
  },
  {
   "cell_type": "code",
   "execution_count": 12,
   "id": "42222b8d",
   "metadata": {},
   "outputs": [
    {
     "name": "stdout",
     "output_type": "stream",
     "text": [
      "train set score: {'roc_auc_score': 0.5464377658543875}\n",
      "test set score: {'roc_auc_score': 0.5529037639453654}\n"
     ]
    }
   ],
   "source": [
    "print('train set score:', model.evaluate(train_dataset, [metric_model], transformers))\n",
    "print('test set score:', model.evaluate(test_dataset, [metric_model], transformers))"
   ]
  },
  {
   "cell_type": "markdown",
   "id": "7b40bb64",
   "metadata": {},
   "source": [
    "GraphConvModel"
   ]
  },
  {
   "cell_type": "code",
   "execution_count": 17,
   "id": "f31297a6",
   "metadata": {},
   "outputs": [],
   "source": [
    "import warnings\n",
    "warnings.filterwarnings(\"ignore\") "
   ]
  },
  {
   "cell_type": "code",
   "execution_count": 21,
   "id": "95438c84",
   "metadata": {
    "scrolled": true
   },
   "outputs": [
    {
     "name": "stderr",
     "output_type": "stream",
     "text": [
      "[13:18:59] Explicit valence for atom # 0 N, 5, is greater than permitted\n",
      "Failed to featurize datapoint 7, None. Appending empty array\n",
      "Exception message: Python argument types in\n",
      "    rdkit.Chem.rdmolfiles.CanonicalRankAtoms(NoneType)\n",
      "did not match C++ signature:\n",
      "    CanonicalRankAtoms(class RDKit::ROMol mol, bool breakTies=True, bool includeChirality=True, bool includeIsotopes=True)\n",
      "[13:19:00] Can't kekulize mol.  Unkekulized atoms: 9\n",
      "Failed to featurize datapoint 302, None. Appending empty array\n",
      "Exception message: Python argument types in\n",
      "    rdkit.Chem.rdmolfiles.CanonicalRankAtoms(NoneType)\n",
      "did not match C++ signature:\n",
      "    CanonicalRankAtoms(class RDKit::ROMol mol, bool breakTies=True, bool includeChirality=True, bool includeIsotopes=True)\n",
      "[13:19:00] Explicit valence for atom # 10 N, 4, is greater than permitted\n",
      "Failed to featurize datapoint 983, None. Appending empty array\n",
      "Exception message: Python argument types in\n",
      "    rdkit.Chem.rdmolfiles.CanonicalRankAtoms(NoneType)\n",
      "did not match C++ signature:\n",
      "    CanonicalRankAtoms(class RDKit::ROMol mol, bool breakTies=True, bool includeChirality=True, bool includeIsotopes=True)\n",
      "[13:19:00] Explicit valence for atom # 10 N, 4, is greater than permitted\n",
      "Failed to featurize datapoint 984, None. Appending empty array\n",
      "Exception message: Python argument types in\n",
      "    rdkit.Chem.rdmolfiles.CanonicalRankAtoms(NoneType)\n",
      "did not match C++ signature:\n",
      "    CanonicalRankAtoms(class RDKit::ROMol mol, bool breakTies=True, bool includeChirality=True, bool includeIsotopes=True)\n",
      "[13:19:01] Can't kekulize mol.  Unkekulized atoms: 4\n",
      "Failed to featurize datapoint 1219, None. Appending empty array\n",
      "Exception message: Python argument types in\n",
      "    rdkit.Chem.rdmolfiles.CanonicalRankAtoms(NoneType)\n",
      "did not match C++ signature:\n",
      "    CanonicalRankAtoms(class RDKit::ROMol mol, bool breakTies=True, bool includeChirality=True, bool includeIsotopes=True)\n",
      "[13:19:01] Can't kekulize mol.  Unkekulized atoms: 4\n",
      "Failed to featurize datapoint 1220, None. Appending empty array\n",
      "Exception message: Python argument types in\n",
      "    rdkit.Chem.rdmolfiles.CanonicalRankAtoms(NoneType)\n",
      "did not match C++ signature:\n",
      "    CanonicalRankAtoms(class RDKit::ROMol mol, bool breakTies=True, bool includeChirality=True, bool includeIsotopes=True)\n"
     ]
    }
   ],
   "source": [
    "tasks, datasets, transformers = dc.molnet.load_clintox(featurizer=dc.feat.ConvMolFeaturizer())\n",
    "train_dataset, valid_dataset, test_dataset = datasets"
   ]
  },
  {
   "cell_type": "code",
   "execution_count": 22,
   "id": "1e7c2db4",
   "metadata": {},
   "outputs": [
    {
     "name": "stdout",
     "output_type": "stream",
     "text": [
      "Train set score: {'roc_auc_score': 0.44913244657261575}\n",
      "Test set score: {'roc_auc_score': 0.34487887950509155}\n"
     ]
    }
   ],
   "source": [
    "metric = dc.metrics.Metric(dc.metrics.roc_auc_score)\n",
    "print('Train set score:', model.evaluate(train_dataset, [metric], transformers))\n",
    "print('Test set score:', model.evaluate(test_dataset, [metric], transformers))"
   ]
  },
  {
   "cell_type": "markdown",
   "id": "e8c15b24",
   "metadata": {},
   "source": [
    "GATmodel"
   ]
  },
  {
   "cell_type": "code",
   "execution_count": 24,
   "id": "50bb4809",
   "metadata": {
    "scrolled": true
   },
   "outputs": [
    {
     "name": "stderr",
     "output_type": "stream",
     "text": [
      "[14:33:21] Explicit valence for atom # 0 N, 5, is greater than permitted\n",
      "Failed to featurize datapoint 7, None. Appending empty array\n",
      "Exception message: Python argument types in\n",
      "    rdkit.Chem.rdmolfiles.CanonicalRankAtoms(NoneType)\n",
      "did not match C++ signature:\n",
      "    CanonicalRankAtoms(class RDKit::ROMol mol, bool breakTies=True, bool includeChirality=True, bool includeIsotopes=True)\n",
      "Failed to featurize datapoint 12, [Se]. Appending empty array\n",
      "Exception message: More than one atom should be present in the molecule for this featurizer to work.\n",
      "[14:33:23] Can't kekulize mol.  Unkekulized atoms: 9\n",
      "Failed to featurize datapoint 302, None. Appending empty array\n",
      "Exception message: Python argument types in\n",
      "    rdkit.Chem.rdmolfiles.CanonicalRankAtoms(NoneType)\n",
      "did not match C++ signature:\n",
      "    CanonicalRankAtoms(class RDKit::ROMol mol, bool breakTies=True, bool includeChirality=True, bool includeIsotopes=True)\n",
      "[14:33:29] Explicit valence for atom # 10 N, 4, is greater than permitted\n",
      "Failed to featurize datapoint 983, None. Appending empty array\n",
      "Exception message: Python argument types in\n",
      "    rdkit.Chem.rdmolfiles.CanonicalRankAtoms(NoneType)\n",
      "did not match C++ signature:\n",
      "    CanonicalRankAtoms(class RDKit::ROMol mol, bool breakTies=True, bool includeChirality=True, bool includeIsotopes=True)\n",
      "[14:33:29] Explicit valence for atom # 10 N, 4, is greater than permitted\n",
      "Failed to featurize datapoint 984, None. Appending empty array\n",
      "Exception message: Python argument types in\n",
      "    rdkit.Chem.rdmolfiles.CanonicalRankAtoms(NoneType)\n",
      "did not match C++ signature:\n",
      "    CanonicalRankAtoms(class RDKit::ROMol mol, bool breakTies=True, bool includeChirality=True, bool includeIsotopes=True)\n",
      "[14:33:31] Can't kekulize mol.  Unkekulized atoms: 4\n",
      "Failed to featurize datapoint 1219, None. Appending empty array\n",
      "Exception message: Python argument types in\n",
      "    rdkit.Chem.rdmolfiles.CanonicalRankAtoms(NoneType)\n",
      "did not match C++ signature:\n",
      "    CanonicalRankAtoms(class RDKit::ROMol mol, bool breakTies=True, bool includeChirality=True, bool includeIsotopes=True)\n",
      "[14:33:31] Can't kekulize mol.  Unkekulized atoms: 4\n",
      "Failed to featurize datapoint 1220, None. Appending empty array\n",
      "Exception message: Python argument types in\n",
      "    rdkit.Chem.rdmolfiles.CanonicalRankAtoms(NoneType)\n",
      "did not match C++ signature:\n",
      "    CanonicalRankAtoms(class RDKit::ROMol mol, bool breakTies=True, bool includeChirality=True, bool includeIsotopes=True)\n"
     ]
    }
   ],
   "source": [
    "tasks, datasets, transformers = dc.molnet.load_clintox(featurizer=dc.feat.MolGraphConvFeaturizer())\n",
    "train_dataset, valid_dataset, test_dataset = datasets"
   ]
  },
  {
   "cell_type": "code",
   "execution_count": 25,
   "id": "60ca984c",
   "metadata": {},
   "outputs": [],
   "source": [
    "from deepchem.models import GATModel\n",
    "model = dc.models.GATModel(mode='classification', n_tasks=2,batch_size=16, learning_rate=0.001)"
   ]
  },
  {
   "cell_type": "code",
   "execution_count": 26,
   "id": "33136990",
   "metadata": {},
   "outputs": [
    {
     "name": "stdout",
     "output_type": "stream",
     "text": [
      "Train set score: {'roc_auc_score': 0.6401833911886865}\n",
      "Test set score: {'roc_auc_score': 0.5808031835401244}\n"
     ]
    }
   ],
   "source": [
    "metric = dc.metrics.Metric(dc.metrics.roc_auc_score)\n",
    "print('Train set score:', model.evaluate(train_dataset, [metric], transformers))\n",
    "print('Test set score:', model.evaluate(test_dataset, [metric], transformers))"
   ]
  },
  {
   "cell_type": "markdown",
   "id": "ad20edcb",
   "metadata": {},
   "source": [
    "GCNModel"
   ]
  },
  {
   "cell_type": "code",
   "execution_count": 28,
   "id": "572821d3",
   "metadata": {},
   "outputs": [],
   "source": [
    "from deepchem.models import GCNModel\n",
    "model = dc.models.GCNModel(mode='classification', n_tasks=2,batch_size=16, learning_rate=0.001)"
   ]
  },
  {
   "cell_type": "code",
   "execution_count": 29,
   "id": "7146ac7c",
   "metadata": {},
   "outputs": [
    {
     "name": "stdout",
     "output_type": "stream",
     "text": [
      "Train set score: {'roc_auc_score': 0.4721913396551126}\n",
      "Test set score: {'roc_auc_score': 0.4683444548708859}\n"
     ]
    }
   ],
   "source": [
    "metric = dc.metrics.Metric(dc.metrics.roc_auc_score)\n",
    "print('Train set score:', model.evaluate(train_dataset, [metric], transformers))\n",
    "print('Test set score:', model.evaluate(test_dataset, [metric], transformers))"
   ]
  },
  {
   "cell_type": "code",
   "execution_count": null,
   "id": "f8324590",
   "metadata": {},
   "outputs": [],
   "source": []
  }
 ],
 "metadata": {
  "kernelspec": {
   "display_name": "Python 3",
   "language": "python",
   "name": "python3"
  },
  "language_info": {
   "codemirror_mode": {
    "name": "ipython",
    "version": 3
   },
   "file_extension": ".py",
   "mimetype": "text/x-python",
   "name": "python",
   "nbconvert_exporter": "python",
   "pygments_lexer": "ipython3",
   "version": "3.8.8"
  }
 },
 "nbformat": 4,
 "nbformat_minor": 5
}
